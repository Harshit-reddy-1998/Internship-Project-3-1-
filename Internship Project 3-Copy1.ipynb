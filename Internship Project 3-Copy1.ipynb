{
 "cells": [
  {
   "cell_type": "code",
   "execution_count": 1,
   "metadata": {},
   "outputs": [],
   "source": [
    "import selenium\n",
    "import pandas as pd\n",
    "from selenium import webdriver"
   ]
  },
  {
   "cell_type": "code",
   "execution_count": 2,
   "metadata": {},
   "outputs": [],
   "source": [
    "driver=webdriver.Chrome(r'C:\\\\Users\\\\Harshit Reddy\\\\Downloads\\\\chromedriver_win32\\\\chromedriver.exe')"
   ]
  },
  {
   "cell_type": "markdown",
   "metadata": {},
   "source": [
    "1.Write a python program to scrape data for “Data Analyst” Job position in \n",
    "“Bangalore” location. You have to scrape the job-title, job-location, company_name,\n",
    "experience_required. You have to scrape first 10 jobs data."
   ]
  },
  {
   "cell_type": "code",
   "execution_count": 59,
   "metadata": {},
   "outputs": [],
   "source": [
    "url='https://www.naukri.com/'\n",
    "driver.get(url)"
   ]
  },
  {
   "cell_type": "code",
   "execution_count": 60,
   "metadata": {},
   "outputs": [
    {
     "data": {
      "text/plain": [
       "<selenium.webdriver.remote.webelement.WebElement (session=\"7af2d2dd1e204566b389b60980bad604\", element=\"4b345093-f1db-48c2-997d-8209e17062bf\")>"
      ]
     },
     "execution_count": 60,
     "metadata": {},
     "output_type": "execute_result"
    }
   ],
   "source": [
    "search_job=driver.find_element_by_id('qsb-keyword-sugg')\n",
    "search_job"
   ]
  },
  {
   "cell_type": "code",
   "execution_count": 61,
   "metadata": {},
   "outputs": [],
   "source": [
    "search_job.send_keys('Data Analyst')"
   ]
  },
  {
   "cell_type": "code",
   "execution_count": 62,
   "metadata": {},
   "outputs": [
    {
     "data": {
      "text/plain": [
       "<selenium.webdriver.remote.webelement.WebElement (session=\"7af2d2dd1e204566b389b60980bad604\", element=\"08cfac9d-97ef-46ce-be83-ab78874f30cf\")>"
      ]
     },
     "execution_count": 62,
     "metadata": {},
     "output_type": "execute_result"
    }
   ],
   "source": [
    "search_loc=driver.find_element_by_id('qsb-location-sugg')\n",
    "search_loc"
   ]
  },
  {
   "cell_type": "code",
   "execution_count": 63,
   "metadata": {},
   "outputs": [],
   "source": [
    "search_loc.send_keys('Bangalore')"
   ]
  },
  {
   "cell_type": "code",
   "execution_count": 64,
   "metadata": {},
   "outputs": [],
   "source": [
    "search_btn=driver.find_element_by_xpath('//button[@class=\"btn\"]')\n",
    "search_btn.click()"
   ]
  },
  {
   "cell_type": "code",
   "execution_count": 69,
   "metadata": {},
   "outputs": [
    {
     "data": {
      "text/plain": [
       "['Data Analyst - Quant & Data Mining',\n",
       " 'Marketing Technology Data Analyst',\n",
       " 'Process Data Analyst',\n",
       " 'Data Analyst (Contractual)',\n",
       " 'Data Analyst (Contractual)',\n",
       " 'Data Analyst - Category Demand Management (Revenue & Growth)',\n",
       " 'Data Analyst',\n",
       " 'Data Analyst',\n",
       " 'Data Analyst - Revenue & Growth',\n",
       " 'ACO Data Analyst Call Rina']"
      ]
     },
     "execution_count": 69,
     "metadata": {},
     "output_type": "execute_result"
    }
   ],
   "source": [
    "title_tags=driver.find_elements_by_xpath('//a[@class=\"title fw500 ellipsis\"]')\n",
    "job_titles=[]\n",
    "for i in title_tags:\n",
    "    job_titles.append(i.text)\n",
    "job_titles[0:10]   "
   ]
  },
  {
   "cell_type": "code",
   "execution_count": 70,
   "metadata": {},
   "outputs": [
    {
     "data": {
      "text/plain": [
       "['Catalyst',\n",
       " 'WeGo',\n",
       " 'Hitachi ABB Power Grids',\n",
       " 'Flipkart Internet Private Limited',\n",
       " 'Flipkart Internet Private Limited',\n",
       " 'Myntra Designs Pvt. Ltd.',\n",
       " 'Novel Office',\n",
       " 'Near Pte. Ltd.',\n",
       " 'Myntra Designs Pvt. Ltd.',\n",
       " 'White Horse Manpower Consultancy Private Limited']"
      ]
     },
     "execution_count": 70,
     "metadata": {},
     "output_type": "execute_result"
    }
   ],
   "source": [
    "company_tags=driver.find_elements_by_xpath('//a[@class=\"subTitle ellipsis fleft\"]')\n",
    "company_names=[]\n",
    "for i in company_tags:\n",
    "    company_names.append(i.text)\n",
    "company_names[0:10]    "
   ]
  },
  {
   "cell_type": "code",
   "execution_count": 71,
   "metadata": {},
   "outputs": [],
   "source": [
    "experience_tags=driver.find_elements_by_xpath('//span[@class=\"ellipsis fleft fs12 lh16\"]')"
   ]
  },
  {
   "cell_type": "code",
   "execution_count": 72,
   "metadata": {},
   "outputs": [
    {
     "data": {
      "text/plain": [
       "['2-6 Yrs',\n",
       " '2-4 Yrs',\n",
       " '2-6 Yrs',\n",
       " '1-4 Yrs',\n",
       " '1-4 Yrs',\n",
       " '1-4 Yrs',\n",
       " '0-3 Yrs',\n",
       " '2-5 Yrs',\n",
       " '2-3 Yrs',\n",
       " '2-4 Yrs']"
      ]
     },
     "execution_count": 72,
     "metadata": {},
     "output_type": "execute_result"
    }
   ],
   "source": [
    "experience_tags=driver.find_elements_by_xpath('//li[@class=\"fleft grey-text br2 placeHolderLi experience\"]')\n",
    "experience=[]\n",
    "for i in experience_tags:\n",
    "    experience.append(i.text)\n",
    "experience[0:10]"
   ]
  },
  {
   "cell_type": "code",
   "execution_count": 73,
   "metadata": {},
   "outputs": [
    {
     "data": {
      "text/plain": [
       "['Bangalore/Bengaluru',\n",
       " 'Bangalore/Bengaluru',\n",
       " 'Bangalore/Bengaluru',\n",
       " 'Bangalore/Bengaluru(Bellandur)',\n",
       " 'Bangalore/Bengaluru(Bellandur)',\n",
       " 'Bangalore/Bengaluru',\n",
       " 'Bangalore/Bengaluru',\n",
       " 'Bangalore/Bengaluru',\n",
       " 'Bangalore/Bengaluru',\n",
       " 'Bangalore/Bengaluru']"
      ]
     },
     "execution_count": 73,
     "metadata": {},
     "output_type": "execute_result"
    }
   ],
   "source": [
    "location_tags=driver.find_elements_by_xpath('//li[@class=\"fleft grey-text br2 placeHolderLi location\"]/span')\n",
    "locations=[]\n",
    "for i in location_tags:\n",
    "    locations.append(i.text)\n",
    "locations[0:10]   "
   ]
  },
  {
   "cell_type": "code",
   "execution_count": 74,
   "metadata": {},
   "outputs": [],
   "source": [
    "jobs=pd.DataFrame()\n",
    "jobs['title_tags']=job_titles[0:10]\n",
    "jobs['company_tags']=company_names[0:10]\n",
    "jobs['experience_tags']=experience[0:10]\n",
    "jobs['location_tags']=locations[0:10]"
   ]
  },
  {
   "cell_type": "code",
   "execution_count": 75,
   "metadata": {},
   "outputs": [
    {
     "data": {
      "text/html": [
       "<div>\n",
       "<style scoped>\n",
       "    .dataframe tbody tr th:only-of-type {\n",
       "        vertical-align: middle;\n",
       "    }\n",
       "\n",
       "    .dataframe tbody tr th {\n",
       "        vertical-align: top;\n",
       "    }\n",
       "\n",
       "    .dataframe thead th {\n",
       "        text-align: right;\n",
       "    }\n",
       "</style>\n",
       "<table border=\"1\" class=\"dataframe\">\n",
       "  <thead>\n",
       "    <tr style=\"text-align: right;\">\n",
       "      <th></th>\n",
       "      <th>title_tags</th>\n",
       "      <th>company_tags</th>\n",
       "      <th>experience_tags</th>\n",
       "      <th>location_tags</th>\n",
       "    </tr>\n",
       "  </thead>\n",
       "  <tbody>\n",
       "    <tr>\n",
       "      <th>0</th>\n",
       "      <td>Data Analyst - Quant &amp; Data Mining</td>\n",
       "      <td>Catalyst</td>\n",
       "      <td>2-6 Yrs</td>\n",
       "      <td>Bangalore/Bengaluru</td>\n",
       "    </tr>\n",
       "    <tr>\n",
       "      <th>1</th>\n",
       "      <td>Marketing Technology Data Analyst</td>\n",
       "      <td>WeGo</td>\n",
       "      <td>2-4 Yrs</td>\n",
       "      <td>Bangalore/Bengaluru</td>\n",
       "    </tr>\n",
       "    <tr>\n",
       "      <th>2</th>\n",
       "      <td>Process Data Analyst</td>\n",
       "      <td>Hitachi ABB Power Grids</td>\n",
       "      <td>2-6 Yrs</td>\n",
       "      <td>Bangalore/Bengaluru</td>\n",
       "    </tr>\n",
       "    <tr>\n",
       "      <th>3</th>\n",
       "      <td>Data Analyst (Contractual)</td>\n",
       "      <td>Flipkart Internet Private Limited</td>\n",
       "      <td>1-4 Yrs</td>\n",
       "      <td>Bangalore/Bengaluru(Bellandur)</td>\n",
       "    </tr>\n",
       "    <tr>\n",
       "      <th>4</th>\n",
       "      <td>Data Analyst (Contractual)</td>\n",
       "      <td>Flipkart Internet Private Limited</td>\n",
       "      <td>1-4 Yrs</td>\n",
       "      <td>Bangalore/Bengaluru(Bellandur)</td>\n",
       "    </tr>\n",
       "    <tr>\n",
       "      <th>5</th>\n",
       "      <td>Data Analyst - Category Demand Management (Rev...</td>\n",
       "      <td>Myntra Designs Pvt. Ltd.</td>\n",
       "      <td>1-4 Yrs</td>\n",
       "      <td>Bangalore/Bengaluru</td>\n",
       "    </tr>\n",
       "    <tr>\n",
       "      <th>6</th>\n",
       "      <td>Data Analyst</td>\n",
       "      <td>Novel Office</td>\n",
       "      <td>0-3 Yrs</td>\n",
       "      <td>Bangalore/Bengaluru</td>\n",
       "    </tr>\n",
       "    <tr>\n",
       "      <th>7</th>\n",
       "      <td>Data Analyst</td>\n",
       "      <td>Near Pte. Ltd.</td>\n",
       "      <td>2-5 Yrs</td>\n",
       "      <td>Bangalore/Bengaluru</td>\n",
       "    </tr>\n",
       "    <tr>\n",
       "      <th>8</th>\n",
       "      <td>Data Analyst - Revenue &amp; Growth</td>\n",
       "      <td>Myntra Designs Pvt. Ltd.</td>\n",
       "      <td>2-3 Yrs</td>\n",
       "      <td>Bangalore/Bengaluru</td>\n",
       "    </tr>\n",
       "    <tr>\n",
       "      <th>9</th>\n",
       "      <td>ACO Data Analyst Call Rina</td>\n",
       "      <td>White Horse Manpower Consultancy Private Limited</td>\n",
       "      <td>2-4 Yrs</td>\n",
       "      <td>Bangalore/Bengaluru</td>\n",
       "    </tr>\n",
       "  </tbody>\n",
       "</table>\n",
       "</div>"
      ],
      "text/plain": [
       "                                          title_tags  \\\n",
       "0                 Data Analyst - Quant & Data Mining   \n",
       "1                  Marketing Technology Data Analyst   \n",
       "2                               Process Data Analyst   \n",
       "3                         Data Analyst (Contractual)   \n",
       "4                         Data Analyst (Contractual)   \n",
       "5  Data Analyst - Category Demand Management (Rev...   \n",
       "6                                       Data Analyst   \n",
       "7                                       Data Analyst   \n",
       "8                    Data Analyst - Revenue & Growth   \n",
       "9                         ACO Data Analyst Call Rina   \n",
       "\n",
       "                                       company_tags experience_tags  \\\n",
       "0                                          Catalyst         2-6 Yrs   \n",
       "1                                              WeGo         2-4 Yrs   \n",
       "2                           Hitachi ABB Power Grids         2-6 Yrs   \n",
       "3                 Flipkart Internet Private Limited         1-4 Yrs   \n",
       "4                 Flipkart Internet Private Limited         1-4 Yrs   \n",
       "5                          Myntra Designs Pvt. Ltd.         1-4 Yrs   \n",
       "6                                      Novel Office         0-3 Yrs   \n",
       "7                                    Near Pte. Ltd.         2-5 Yrs   \n",
       "8                          Myntra Designs Pvt. Ltd.         2-3 Yrs   \n",
       "9  White Horse Manpower Consultancy Private Limited         2-4 Yrs   \n",
       "\n",
       "                    location_tags  \n",
       "0             Bangalore/Bengaluru  \n",
       "1             Bangalore/Bengaluru  \n",
       "2             Bangalore/Bengaluru  \n",
       "3  Bangalore/Bengaluru(Bellandur)  \n",
       "4  Bangalore/Bengaluru(Bellandur)  \n",
       "5             Bangalore/Bengaluru  \n",
       "6             Bangalore/Bengaluru  \n",
       "7             Bangalore/Bengaluru  \n",
       "8             Bangalore/Bengaluru  \n",
       "9             Bangalore/Bengaluru  "
      ]
     },
     "execution_count": 75,
     "metadata": {},
     "output_type": "execute_result"
    }
   ],
   "source": [
    "jobs"
   ]
  },
  {
   "cell_type": "markdown",
   "metadata": {},
   "source": [
    "2.Write a python program to scrape data for “Data Scientist” Job position in \n",
    "“Bangalore” location. You have to scrape the job-title, job-location,\n",
    "company_name, full job-description. You have to scrape first 10 jobs data.\n"
   ]
  },
  {
   "cell_type": "code",
   "execution_count": 89,
   "metadata": {},
   "outputs": [],
   "source": [
    "url='https://www.naukri.com/'\n",
    "driver.get(url)"
   ]
  },
  {
   "cell_type": "code",
   "execution_count": 90,
   "metadata": {},
   "outputs": [
    {
     "data": {
      "text/plain": [
       "<selenium.webdriver.remote.webelement.WebElement (session=\"7af2d2dd1e204566b389b60980bad604\", element=\"2055c066-9d1a-4e9c-9ede-edfc6c880e21\")>"
      ]
     },
     "execution_count": 90,
     "metadata": {},
     "output_type": "execute_result"
    }
   ],
   "source": [
    "search_job=driver.find_element_by_id('qsb-keyword-sugg')\n",
    "search_job"
   ]
  },
  {
   "cell_type": "code",
   "execution_count": 91,
   "metadata": {},
   "outputs": [],
   "source": [
    "search_job.send_keys('Data Scientist')"
   ]
  },
  {
   "cell_type": "code",
   "execution_count": 92,
   "metadata": {},
   "outputs": [
    {
     "data": {
      "text/plain": [
       "<selenium.webdriver.remote.webelement.WebElement (session=\"7af2d2dd1e204566b389b60980bad604\", element=\"1b2e4fe8-47cc-497e-bf71-2fa2a251af4b\")>"
      ]
     },
     "execution_count": 92,
     "metadata": {},
     "output_type": "execute_result"
    }
   ],
   "source": [
    "search_loc=driver.find_element_by_id('qsb-location-sugg')\n",
    "search_loc"
   ]
  },
  {
   "cell_type": "code",
   "execution_count": 93,
   "metadata": {},
   "outputs": [],
   "source": [
    "search_loc.send_keys('Bangalore')"
   ]
  },
  {
   "cell_type": "code",
   "execution_count": 94,
   "metadata": {},
   "outputs": [],
   "source": [
    "search_btn=driver.find_element_by_xpath('//button[@class=\"btn\"]')\n",
    "search_btn.click()"
   ]
  },
  {
   "cell_type": "code",
   "execution_count": 99,
   "metadata": {},
   "outputs": [
    {
     "data": {
      "text/plain": [
       "['Data Scientist - Python/ SQL',\n",
       " 'Data Scientist',\n",
       " 'Data Scientist - Python/r',\n",
       " 'Data Scientist',\n",
       " 'Data Scientist - Machine Learning',\n",
       " 'Data Scientist - Machine Learning',\n",
       " 'Data Scientist',\n",
       " 'Data Scientist',\n",
       " 'Data Scientist - Optimus ( RL/ DL)',\n",
       " 'Data Scientist']"
      ]
     },
     "execution_count": 99,
     "metadata": {},
     "output_type": "execute_result"
    }
   ],
   "source": [
    "Job_title=driver.find_elements_by_xpath('//a[@class=\"title fw500 ellipsis\"]')\n",
    "title_tags=[]\n",
    "for i in Job_title:\n",
    "    title_tags.append(i.text)\n",
    "title_tags[0:10]   "
   ]
  },
  {
   "cell_type": "code",
   "execution_count": 100,
   "metadata": {},
   "outputs": [
    {
     "data": {
      "text/plain": [
       "['Catalyst',\n",
       " 'Catalyst',\n",
       " 'Catalyst',\n",
       " 'Bion',\n",
       " 'Catalyst',\n",
       " 'AugmatrixGo',\n",
       " 'Talent Corner HR Services Pvt Ltd',\n",
       " 'Simplify360',\n",
       " 'Bert Labs',\n",
       " 'Applied Materials']"
      ]
     },
     "execution_count": 100,
     "metadata": {},
     "output_type": "execute_result"
    }
   ],
   "source": [
    "Company_names=driver.find_elements_by_xpath('//a[@class=\"subTitle ellipsis fleft\"]')\n",
    "company_tags=[]\n",
    "for i in Company_names:\n",
    "    company_tags.append(i.text)\n",
    "company_tags[0:10]    "
   ]
  },
  {
   "cell_type": "code",
   "execution_count": 101,
   "metadata": {},
   "outputs": [
    {
     "data": {
      "text/plain": [
       "['Bangalore/Bengaluru',\n",
       " 'Bangalore/Bengaluru',\n",
       " 'Bangalore/Bengaluru',\n",
       " 'Bangalore/Bengaluru',\n",
       " 'Bangalore/Bengaluru',\n",
       " 'Bangalore/Bengaluru',\n",
       " 'Bangalore/Bengaluru',\n",
       " 'Bangalore/Bengaluru',\n",
       " 'Bangalore/Bengaluru',\n",
       " 'Bangalore/Bengaluru']"
      ]
     },
     "execution_count": 101,
     "metadata": {},
     "output_type": "execute_result"
    }
   ],
   "source": [
    "Job_location=driver.find_elements_by_xpath('//li[@class=\"fleft grey-text br2 placeHolderLi location\"]/span')\n",
    "location_tags=[]\n",
    "for i in Job_location:\n",
    "    location_tags.append(i.text)\n",
    "location_tags[0:10]   "
   ]
  },
  {
   "cell_type": "code",
   "execution_count": 102,
   "metadata": {},
   "outputs": [
    {
     "data": {
      "text/plain": [
       "['Being the first data scientist of the company, you shall be responsible for building ro...',\n",
       " 'Responsibilities Collaborate with product and business teams to understand all aspects ...',\n",
       " 'Comfortable writing code and contributing to a code base in Python or R. - Proficient i...',\n",
       " 'Responsibilities Collaborate with product and business teams to understand all aspects ...',\n",
       " 'Roles and Responsibilities- Implement data-driven solutions based on advanced ML and op...',\n",
       " 'BTech / MTech degree in from reputed institutes like IIT / NIT / BITSSkills Required : ...',\n",
       " 'Must have min 2 to 5 years of expertise in machine learning algorithms, predictive anal...',\n",
       " 'Should have understanding of model deploymentExperience with common data science toolki...',\n",
       " 'Experience: BTech / MTech/MS / PhD in CS / ECE/Statistics or other relevant field from ...',\n",
       " 'Education: Bachelors Degree analyzes possible solutions using technical experience and ...',\n",
       " 'IITs, IISc, BITS, IIITs and global ranked Univs) with goodBasic Qualifications: Bachelo...',\n",
       " 'The candidate should have relevant experience in Python, R, Machine Learning, NLP, Deep...',\n",
       " 'Bachelor s degree in a quantitative discipline (e.g., Statistics, Economics, Mathematic...',\n",
       " 'Graduate level math and statistics knowledge is preferred Good Python programmers with ...',\n",
       " 'Roles and Responsibilities Formulates and leads guided, multifaceted analytic studies a...',\n",
       " 'Bachelors / Masters equivalent in any Quantitative disciplines (Science, Technology, En...',\n",
       " 'Roles and Responsibilities We are looking for data scientists to support market trading...',\n",
       " \"WHAT WE NEED Ph.D. or Masters or Bachelor's in computer science, Electrical / Computer ...\",\n",
       " 'Masters degree in a quantitative discipline (Mathematics, Statistics, Computer Science,...',\n",
       " 'Job descriptionLooking for immediate joiners.Responsibilities:Devise innovative solutio...']"
      ]
     },
     "execution_count": 102,
     "metadata": {},
     "output_type": "execute_result"
    }
   ],
   "source": [
    "Job_description=driver.find_elements_by_xpath('//div[@class=\"job-description fs12 grey-text\"]')\n",
    "job_desc=[]\n",
    "for i in Job_description:\n",
    "    job_desc.append(i.text)\n",
    "job_desc"
   ]
  },
  {
   "cell_type": "code",
   "execution_count": 103,
   "metadata": {},
   "outputs": [],
   "source": [
    "jobs=pd.DataFrame()\n",
    "jobs['Job_title']=title_tags[0:10]\n",
    "jobs['Company_names']=company_tags[0:10]\n",
    "jobs['Job_location']=location_tags[0:10]\n",
    "jobs['Job_description']=job_desc[0:10]"
   ]
  },
  {
   "cell_type": "code",
   "execution_count": 104,
   "metadata": {},
   "outputs": [
    {
     "data": {
      "text/html": [
       "<div>\n",
       "<style scoped>\n",
       "    .dataframe tbody tr th:only-of-type {\n",
       "        vertical-align: middle;\n",
       "    }\n",
       "\n",
       "    .dataframe tbody tr th {\n",
       "        vertical-align: top;\n",
       "    }\n",
       "\n",
       "    .dataframe thead th {\n",
       "        text-align: right;\n",
       "    }\n",
       "</style>\n",
       "<table border=\"1\" class=\"dataframe\">\n",
       "  <thead>\n",
       "    <tr style=\"text-align: right;\">\n",
       "      <th></th>\n",
       "      <th>Job_title</th>\n",
       "      <th>Company_names</th>\n",
       "      <th>Job_location</th>\n",
       "      <th>Job_description</th>\n",
       "    </tr>\n",
       "  </thead>\n",
       "  <tbody>\n",
       "    <tr>\n",
       "      <th>0</th>\n",
       "      <td>Data Scientist - Python/ SQL</td>\n",
       "      <td>Catalyst</td>\n",
       "      <td>Bangalore/Bengaluru</td>\n",
       "      <td>Being the first data scientist of the company,...</td>\n",
       "    </tr>\n",
       "    <tr>\n",
       "      <th>1</th>\n",
       "      <td>Data Scientist</td>\n",
       "      <td>Catalyst</td>\n",
       "      <td>Bangalore/Bengaluru</td>\n",
       "      <td>Responsibilities Collaborate with product and ...</td>\n",
       "    </tr>\n",
       "    <tr>\n",
       "      <th>2</th>\n",
       "      <td>Data Scientist - Python/r</td>\n",
       "      <td>Catalyst</td>\n",
       "      <td>Bangalore/Bengaluru</td>\n",
       "      <td>Comfortable writing code and contributing to a...</td>\n",
       "    </tr>\n",
       "    <tr>\n",
       "      <th>3</th>\n",
       "      <td>Data Scientist</td>\n",
       "      <td>Bion</td>\n",
       "      <td>Bangalore/Bengaluru</td>\n",
       "      <td>Responsibilities Collaborate with product and ...</td>\n",
       "    </tr>\n",
       "    <tr>\n",
       "      <th>4</th>\n",
       "      <td>Data Scientist - Machine Learning</td>\n",
       "      <td>Catalyst</td>\n",
       "      <td>Bangalore/Bengaluru</td>\n",
       "      <td>Roles and Responsibilities- Implement data-dri...</td>\n",
       "    </tr>\n",
       "    <tr>\n",
       "      <th>5</th>\n",
       "      <td>Data Scientist - Machine Learning</td>\n",
       "      <td>AugmatrixGo</td>\n",
       "      <td>Bangalore/Bengaluru</td>\n",
       "      <td>BTech / MTech degree in from reputed institute...</td>\n",
       "    </tr>\n",
       "    <tr>\n",
       "      <th>6</th>\n",
       "      <td>Data Scientist</td>\n",
       "      <td>Talent Corner HR Services Pvt Ltd</td>\n",
       "      <td>Bangalore/Bengaluru</td>\n",
       "      <td>Must have min 2 to 5 years of expertise in mac...</td>\n",
       "    </tr>\n",
       "    <tr>\n",
       "      <th>7</th>\n",
       "      <td>Data Scientist</td>\n",
       "      <td>Simplify360</td>\n",
       "      <td>Bangalore/Bengaluru</td>\n",
       "      <td>Should have understanding of model deploymentE...</td>\n",
       "    </tr>\n",
       "    <tr>\n",
       "      <th>8</th>\n",
       "      <td>Data Scientist - Optimus ( RL/ DL)</td>\n",
       "      <td>Bert Labs</td>\n",
       "      <td>Bangalore/Bengaluru</td>\n",
       "      <td>Experience: BTech / MTech/MS / PhD in CS / ECE...</td>\n",
       "    </tr>\n",
       "    <tr>\n",
       "      <th>9</th>\n",
       "      <td>Data Scientist</td>\n",
       "      <td>Applied Materials</td>\n",
       "      <td>Bangalore/Bengaluru</td>\n",
       "      <td>Education: Bachelors Degree analyzes possible ...</td>\n",
       "    </tr>\n",
       "  </tbody>\n",
       "</table>\n",
       "</div>"
      ],
      "text/plain": [
       "                            Job_title                      Company_names  \\\n",
       "0        Data Scientist - Python/ SQL                           Catalyst   \n",
       "1                      Data Scientist                           Catalyst   \n",
       "2           Data Scientist - Python/r                           Catalyst   \n",
       "3                      Data Scientist                               Bion   \n",
       "4   Data Scientist - Machine Learning                           Catalyst   \n",
       "5   Data Scientist - Machine Learning                        AugmatrixGo   \n",
       "6                      Data Scientist  Talent Corner HR Services Pvt Ltd   \n",
       "7                      Data Scientist                        Simplify360   \n",
       "8  Data Scientist - Optimus ( RL/ DL)                          Bert Labs   \n",
       "9                      Data Scientist                  Applied Materials   \n",
       "\n",
       "          Job_location                                    Job_description  \n",
       "0  Bangalore/Bengaluru  Being the first data scientist of the company,...  \n",
       "1  Bangalore/Bengaluru  Responsibilities Collaborate with product and ...  \n",
       "2  Bangalore/Bengaluru  Comfortable writing code and contributing to a...  \n",
       "3  Bangalore/Bengaluru  Responsibilities Collaborate with product and ...  \n",
       "4  Bangalore/Bengaluru  Roles and Responsibilities- Implement data-dri...  \n",
       "5  Bangalore/Bengaluru  BTech / MTech degree in from reputed institute...  \n",
       "6  Bangalore/Bengaluru  Must have min 2 to 5 years of expertise in mac...  \n",
       "7  Bangalore/Bengaluru  Should have understanding of model deploymentE...  \n",
       "8  Bangalore/Bengaluru  Experience: BTech / MTech/MS / PhD in CS / ECE...  \n",
       "9  Bangalore/Bengaluru  Education: Bachelors Degree analyzes possible ...  "
      ]
     },
     "execution_count": 104,
     "metadata": {},
     "output_type": "execute_result"
    }
   ],
   "source": [
    "jobs"
   ]
  },
  {
   "cell_type": "markdown",
   "metadata": {},
   "source": [
    "3. In this question you have to scrape data using the filters available on the \n",
    "webpage as shown below. You have to use the location and salary filter.\n",
    "You have to scrape data for “Data Scientist” designation for first 10 job results.\n",
    "You have to scrape the job-title, job-location, company_name,\n",
    "experience_required."
   ]
  },
  {
   "cell_type": "code",
   "execution_count": 3,
   "metadata": {},
   "outputs": [],
   "source": [
    "url='https://www.naukri.com/'\n",
    "driver.get(url)"
   ]
  },
  {
   "cell_type": "code",
   "execution_count": 4,
   "metadata": {},
   "outputs": [
    {
     "data": {
      "text/plain": [
       "<selenium.webdriver.remote.webelement.WebElement (session=\"76d89806881cfc86060c575538b584e7\", element=\"08c94a9c-2139-493a-a572-39b4ea2b629e\")>"
      ]
     },
     "execution_count": 4,
     "metadata": {},
     "output_type": "execute_result"
    }
   ],
   "source": [
    "search_job=driver.find_element_by_id('qsb-keyword-sugg')\n",
    "search_job"
   ]
  },
  {
   "cell_type": "code",
   "execution_count": 5,
   "metadata": {},
   "outputs": [],
   "source": [
    "search_job.send_keys('Data Scientist')"
   ]
  },
  {
   "cell_type": "code",
   "execution_count": 10,
   "metadata": {},
   "outputs": [],
   "source": [
    "search_btn=driver.find_element_by_xpath('//button[@class=\"btn\"]')\n",
    "search_btn.click()"
   ]
  },
  {
   "cell_type": "code",
   "execution_count": 11,
   "metadata": {},
   "outputs": [
    {
     "data": {
      "text/plain": [
       "['Data Scientist',\n",
       " 'Data Scientist',\n",
       " 'Data Scientist - Python/ SQL',\n",
       " 'Data Scientist Machine Learning',\n",
       " 'Data Scientist Operational Research',\n",
       " 'Data Scientist',\n",
       " 'Associate Data Scientist',\n",
       " 'Data Scientist',\n",
       " 'Data Scientist',\n",
       " 'Business Analyst- Data Scientist']"
      ]
     },
     "execution_count": 11,
     "metadata": {},
     "output_type": "execute_result"
    }
   ],
   "source": [
    "Job_title=driver.find_elements_by_xpath('//a[@class=\"title fw500 ellipsis\"]')\n",
    "title_tags=[]\n",
    "for i in Job_title:\n",
    "    title_tags.append(i.text)\n",
    "title_tags[0:10]  "
   ]
  },
  {
   "cell_type": "code",
   "execution_count": 12,
   "metadata": {},
   "outputs": [
    {
     "data": {
      "text/plain": [
       "['itForte Staffing Services Private Ltd.',\n",
       " 'Msg.ai',\n",
       " 'Schlesinger Group',\n",
       " 'Delhivery',\n",
       " 'Delhivery',\n",
       " 'Ank Aha Private Limited',\n",
       " 'Blow Trumpet Solutions',\n",
       " 'Dewi',\n",
       " 'Blitz Jobs',\n",
       " 'Wipro']"
      ]
     },
     "execution_count": 12,
     "metadata": {},
     "output_type": "execute_result"
    }
   ],
   "source": [
    "Company_names=driver.find_elements_by_xpath('//a[@class=\"subTitle ellipsis fleft\"]')\n",
    "company_tags=[]\n",
    "for i in Company_names:\n",
    "    company_tags.append(i.text)\n",
    "company_tags[0:10]    "
   ]
  },
  {
   "cell_type": "code",
   "execution_count": 13,
   "metadata": {},
   "outputs": [
    {
     "data": {
      "text/plain": [
       "['Gurgaon',\n",
       " 'Gurgaon/Gurugram',\n",
       " 'Noida, Gurgaon/Gurugram, Delhi / NCR',\n",
       " 'Gurgaon/Gurugram',\n",
       " 'Gurgaon/Gurugram',\n",
       " 'Delhi',\n",
       " 'New Delhi',\n",
       " 'Gurgaon/Gurugram',\n",
       " 'Noida',\n",
       " 'Noida, Gurgaon/Gurugram']"
      ]
     },
     "execution_count": 13,
     "metadata": {},
     "output_type": "execute_result"
    }
   ],
   "source": [
    "Job_location=driver.find_elements_by_xpath('//li[@class=\"fleft grey-text br2 placeHolderLi location\"]/span')\n",
    "location_tags=[]\n",
    "for i in Job_location:\n",
    "    location_tags.append(i.text)\n",
    "location_tags[0:10]   "
   ]
  },
  {
   "cell_type": "code",
   "execution_count": 17,
   "metadata": {},
   "outputs": [],
   "source": [
    "Experience=driver.find_elements_by_xpath('//span[@class=\"ellipsis fleft fs12 lh16\"]')"
   ]
  },
  {
   "cell_type": "code",
   "execution_count": 18,
   "metadata": {},
   "outputs": [
    {
     "data": {
      "text/plain": [
       "['3-8 Yrs',\n",
       " '3-5 Yrs',\n",
       " '3-6 Yrs',\n",
       " '1-3 Yrs',\n",
       " '1-3 Yrs',\n",
       " '2-7 Yrs',\n",
       " '1-5 Yrs',\n",
       " '2-7 Yrs',\n",
       " '3-5 Yrs',\n",
       " '2-5 Yrs']"
      ]
     },
     "execution_count": 18,
     "metadata": {},
     "output_type": "execute_result"
    }
   ],
   "source": [
    "Experience=driver.find_elements_by_xpath('//li[@class=\"fleft grey-text br2 placeHolderLi experience\"]')\n",
    "experience_tags=[]\n",
    "for i in Experience:\n",
    "    experience_tags.append(i.text)\n",
    "experience_tags[0:10]"
   ]
  },
  {
   "cell_type": "code",
   "execution_count": 19,
   "metadata": {},
   "outputs": [],
   "source": [
    "Jobs=pd.DataFrame()\n",
    "Jobs['Job_title']=title_tags[0:10]\n",
    "Jobs['Company_names']=company_tags[0:10]\n",
    "Jobs['Job_location']=location_tags[0:10]\n",
    "Jobs['Experience']=experience_tags[0:10]"
   ]
  },
  {
   "cell_type": "code",
   "execution_count": 20,
   "metadata": {},
   "outputs": [
    {
     "data": {
      "text/html": [
       "<div>\n",
       "<style scoped>\n",
       "    .dataframe tbody tr th:only-of-type {\n",
       "        vertical-align: middle;\n",
       "    }\n",
       "\n",
       "    .dataframe tbody tr th {\n",
       "        vertical-align: top;\n",
       "    }\n",
       "\n",
       "    .dataframe thead th {\n",
       "        text-align: right;\n",
       "    }\n",
       "</style>\n",
       "<table border=\"1\" class=\"dataframe\">\n",
       "  <thead>\n",
       "    <tr style=\"text-align: right;\">\n",
       "      <th></th>\n",
       "      <th>Job_title</th>\n",
       "      <th>Company_names</th>\n",
       "      <th>Job_location</th>\n",
       "      <th>Experience</th>\n",
       "    </tr>\n",
       "  </thead>\n",
       "  <tbody>\n",
       "    <tr>\n",
       "      <th>0</th>\n",
       "      <td>Data Scientist</td>\n",
       "      <td>itForte Staffing Services Private Ltd.</td>\n",
       "      <td>Gurgaon</td>\n",
       "      <td>3-8 Yrs</td>\n",
       "    </tr>\n",
       "    <tr>\n",
       "      <th>1</th>\n",
       "      <td>Data Scientist</td>\n",
       "      <td>Msg.ai</td>\n",
       "      <td>Gurgaon/Gurugram</td>\n",
       "      <td>3-5 Yrs</td>\n",
       "    </tr>\n",
       "    <tr>\n",
       "      <th>2</th>\n",
       "      <td>Data Scientist - Python/ SQL</td>\n",
       "      <td>Schlesinger Group</td>\n",
       "      <td>Noida, Gurgaon/Gurugram, Delhi / NCR</td>\n",
       "      <td>3-6 Yrs</td>\n",
       "    </tr>\n",
       "    <tr>\n",
       "      <th>3</th>\n",
       "      <td>Data Scientist Machine Learning</td>\n",
       "      <td>Delhivery</td>\n",
       "      <td>Gurgaon/Gurugram</td>\n",
       "      <td>1-3 Yrs</td>\n",
       "    </tr>\n",
       "    <tr>\n",
       "      <th>4</th>\n",
       "      <td>Data Scientist Operational Research</td>\n",
       "      <td>Delhivery</td>\n",
       "      <td>Gurgaon/Gurugram</td>\n",
       "      <td>1-3 Yrs</td>\n",
       "    </tr>\n",
       "    <tr>\n",
       "      <th>5</th>\n",
       "      <td>Data Scientist</td>\n",
       "      <td>Ank Aha Private Limited</td>\n",
       "      <td>Delhi</td>\n",
       "      <td>2-7 Yrs</td>\n",
       "    </tr>\n",
       "    <tr>\n",
       "      <th>6</th>\n",
       "      <td>Associate Data Scientist</td>\n",
       "      <td>Blow Trumpet Solutions</td>\n",
       "      <td>New Delhi</td>\n",
       "      <td>1-5 Yrs</td>\n",
       "    </tr>\n",
       "    <tr>\n",
       "      <th>7</th>\n",
       "      <td>Data Scientist</td>\n",
       "      <td>Dewi</td>\n",
       "      <td>Gurgaon/Gurugram</td>\n",
       "      <td>2-7 Yrs</td>\n",
       "    </tr>\n",
       "    <tr>\n",
       "      <th>8</th>\n",
       "      <td>Data Scientist</td>\n",
       "      <td>Blitz Jobs</td>\n",
       "      <td>Noida</td>\n",
       "      <td>3-5 Yrs</td>\n",
       "    </tr>\n",
       "    <tr>\n",
       "      <th>9</th>\n",
       "      <td>Business Analyst- Data Scientist</td>\n",
       "      <td>Wipro</td>\n",
       "      <td>Noida, Gurgaon/Gurugram</td>\n",
       "      <td>2-5 Yrs</td>\n",
       "    </tr>\n",
       "  </tbody>\n",
       "</table>\n",
       "</div>"
      ],
      "text/plain": [
       "                             Job_title  \\\n",
       "0                       Data Scientist   \n",
       "1                       Data Scientist   \n",
       "2         Data Scientist - Python/ SQL   \n",
       "3      Data Scientist Machine Learning   \n",
       "4  Data Scientist Operational Research   \n",
       "5                       Data Scientist   \n",
       "6             Associate Data Scientist   \n",
       "7                       Data Scientist   \n",
       "8                       Data Scientist   \n",
       "9     Business Analyst- Data Scientist   \n",
       "\n",
       "                            Company_names  \\\n",
       "0  itForte Staffing Services Private Ltd.   \n",
       "1                                  Msg.ai   \n",
       "2                       Schlesinger Group   \n",
       "3                               Delhivery   \n",
       "4                               Delhivery   \n",
       "5                 Ank Aha Private Limited   \n",
       "6                  Blow Trumpet Solutions   \n",
       "7                                    Dewi   \n",
       "8                              Blitz Jobs   \n",
       "9                                   Wipro   \n",
       "\n",
       "                           Job_location Experience  \n",
       "0                               Gurgaon    3-8 Yrs  \n",
       "1                      Gurgaon/Gurugram    3-5 Yrs  \n",
       "2  Noida, Gurgaon/Gurugram, Delhi / NCR    3-6 Yrs  \n",
       "3                      Gurgaon/Gurugram    1-3 Yrs  \n",
       "4                      Gurgaon/Gurugram    1-3 Yrs  \n",
       "5                                 Delhi    2-7 Yrs  \n",
       "6                             New Delhi    1-5 Yrs  \n",
       "7                      Gurgaon/Gurugram    2-7 Yrs  \n",
       "8                                 Noida    3-5 Yrs  \n",
       "9               Noida, Gurgaon/Gurugram    2-5 Yrs  "
      ]
     },
     "execution_count": 20,
     "metadata": {},
     "output_type": "execute_result"
    }
   ],
   "source": [
    "Jobs"
   ]
  },
  {
   "cell_type": "markdown",
   "metadata": {},
   "source": [
    "4.Write a python program to scrape data for first 10 job results for Data scientist \n",
    "Designation in Noida location. You have to scrape company_name, No. of days \n",
    "ago when job was posted, Rating of the company."
   ]
  },
  {
   "cell_type": "code",
   "execution_count": 3,
   "metadata": {},
   "outputs": [],
   "source": [
    "url='https://www.glassdoor.co.in/Salaries/index.htm'\n",
    "driver.get(url)"
   ]
  },
  {
   "cell_type": "code",
   "execution_count": 61,
   "metadata": {},
   "outputs": [
    {
     "data": {
      "text/plain": [
       "<selenium.webdriver.remote.webelement.WebElement (session=\"1ed2277586c031f6f9b1b538211955d4\", element=\"5f384547-4291-4ab1-b269-f36c0c78f52a\")>"
      ]
     },
     "execution_count": 61,
     "metadata": {},
     "output_type": "execute_result"
    }
   ],
   "source": [
    "search_job=driver.find_element_by_id('KeywordSearch')\n",
    "search_job"
   ]
  },
  {
   "cell_type": "code",
   "execution_count": 62,
   "metadata": {},
   "outputs": [],
   "source": [
    "search_job.send_keys('Data Scientist')"
   ]
  },
  {
   "cell_type": "code",
   "execution_count": 63,
   "metadata": {},
   "outputs": [
    {
     "data": {
      "text/plain": [
       "<selenium.webdriver.remote.webelement.WebElement (session=\"1ed2277586c031f6f9b1b538211955d4\", element=\"68c6f03c-9a60-4574-b8b3-03b06643fe33\")>"
      ]
     },
     "execution_count": 63,
     "metadata": {},
     "output_type": "execute_result"
    }
   ],
   "source": [
    "search_loc=driver.find_element_by_id('LocationSearch')\n",
    "search_loc"
   ]
  },
  {
   "cell_type": "code",
   "execution_count": 66,
   "metadata": {},
   "outputs": [],
   "source": [
    "search_loc.send_keys('Noida')"
   ]
  },
  {
   "cell_type": "code",
   "execution_count": 67,
   "metadata": {},
   "outputs": [],
   "source": [
    "search_btn=driver.find_element_by_xpath('//button[@class=\"gd-btn-mkt\"]')\n",
    "search_btn.click()"
   ]
  },
  {
   "cell_type": "code",
   "execution_count": 26,
   "metadata": {},
   "outputs": [
    {
     "data": {
      "text/plain": [
       "['NatWest Group',\n",
       " 'Crowe',\n",
       " 'Amploy',\n",
       " 'Biz2Credit Inc',\n",
       " 'Mogli Labs India Private Limited',\n",
       " 'Techlive',\n",
       " 'CRMNEXT',\n",
       " 'WishFin',\n",
       " 'Unofin Technology LLP',\n",
       " 'Jubna']"
      ]
     },
     "execution_count": 26,
     "metadata": {},
     "output_type": "execute_result"
    }
   ],
   "source": [
    "Company_names=driver.find_elements_by_xpath('//div[@class=\"d-flex justify-content-between align-items-start\"]')\n",
    "company_name=[]\n",
    "for i in Company_names:\n",
    "    company_name.append(i.text)\n",
    "company_name[0:10]   "
   ]
  },
  {
   "cell_type": "code",
   "execution_count": 40,
   "metadata": {},
   "outputs": [
    {
     "data": {
      "text/plain": [
       "[<selenium.webdriver.remote.webelement.WebElement (session=\"1ed2277586c031f6f9b1b538211955d4\", element=\"a839c176-5367-4505-b8f0-2d69734e3b9f\")>,\n",
       " <selenium.webdriver.remote.webelement.WebElement (session=\"1ed2277586c031f6f9b1b538211955d4\", element=\"92ff696a-ec32-4417-975a-0648a85ae6c0\")>,\n",
       " <selenium.webdriver.remote.webelement.WebElement (session=\"1ed2277586c031f6f9b1b538211955d4\", element=\"436dfbaa-42ae-4f27-9d7f-2e64eb4b9ff5\")>,\n",
       " <selenium.webdriver.remote.webelement.WebElement (session=\"1ed2277586c031f6f9b1b538211955d4\", element=\"f311adae-2b99-4fba-82a0-24fce59d086e\")>,\n",
       " <selenium.webdriver.remote.webelement.WebElement (session=\"1ed2277586c031f6f9b1b538211955d4\", element=\"06a15508-559f-402c-9b84-e33f0c9d3c72\")>,\n",
       " <selenium.webdriver.remote.webelement.WebElement (session=\"1ed2277586c031f6f9b1b538211955d4\", element=\"75dc98ca-2464-4d1a-be2d-0421af9e5fe4\")>,\n",
       " <selenium.webdriver.remote.webelement.WebElement (session=\"1ed2277586c031f6f9b1b538211955d4\", element=\"81fa1998-fa48-4a31-927b-02d60d7e1ba8\")>,\n",
       " <selenium.webdriver.remote.webelement.WebElement (session=\"1ed2277586c031f6f9b1b538211955d4\", element=\"0ada7097-3b31-4691-be50-981232e9d43c\")>,\n",
       " <selenium.webdriver.remote.webelement.WebElement (session=\"1ed2277586c031f6f9b1b538211955d4\", element=\"c6879782-7dd8-40fe-b594-5affe0d88726\")>,\n",
       " <selenium.webdriver.remote.webelement.WebElement (session=\"1ed2277586c031f6f9b1b538211955d4\", element=\"11f30fea-af59-4140-b4a0-eb6fe2b574fd\")>,\n",
       " <selenium.webdriver.remote.webelement.WebElement (session=\"1ed2277586c031f6f9b1b538211955d4\", element=\"793de21b-b53b-4814-a248-9518011f9e7d\")>,\n",
       " <selenium.webdriver.remote.webelement.WebElement (session=\"1ed2277586c031f6f9b1b538211955d4\", element=\"6880c645-78cd-4809-a284-2295ecbc72fe\")>,\n",
       " <selenium.webdriver.remote.webelement.WebElement (session=\"1ed2277586c031f6f9b1b538211955d4\", element=\"07a35ae3-c2cd-4c95-99ed-a8de5b368a2c\")>,\n",
       " <selenium.webdriver.remote.webelement.WebElement (session=\"1ed2277586c031f6f9b1b538211955d4\", element=\"e7c06d30-349a-4bc9-a780-cbbcd621df30\")>,\n",
       " <selenium.webdriver.remote.webelement.WebElement (session=\"1ed2277586c031f6f9b1b538211955d4\", element=\"7940970d-745a-49cc-b224-ec318fd0a37f\")>,\n",
       " <selenium.webdriver.remote.webelement.WebElement (session=\"1ed2277586c031f6f9b1b538211955d4\", element=\"3f6130e9-fd5a-4efa-9f99-906ce9fdf8f1\")>,\n",
       " <selenium.webdriver.remote.webelement.WebElement (session=\"1ed2277586c031f6f9b1b538211955d4\", element=\"f92d3c2a-2105-4d6c-a864-bc91f932beb6\")>,\n",
       " <selenium.webdriver.remote.webelement.WebElement (session=\"1ed2277586c031f6f9b1b538211955d4\", element=\"34a036db-eb0a-4ecc-9c20-fa4bc7f19205\")>,\n",
       " <selenium.webdriver.remote.webelement.WebElement (session=\"1ed2277586c031f6f9b1b538211955d4\", element=\"1d533a98-b868-4263-926f-592210e3a2cb\")>,\n",
       " <selenium.webdriver.remote.webelement.WebElement (session=\"1ed2277586c031f6f9b1b538211955d4\", element=\"a1d297d0-38c6-43a0-98b9-738224e9def6\")>,\n",
       " <selenium.webdriver.remote.webelement.WebElement (session=\"1ed2277586c031f6f9b1b538211955d4\", element=\"8ccea5eb-f5b3-4189-8d2d-3394f7d26b19\")>,\n",
       " <selenium.webdriver.remote.webelement.WebElement (session=\"1ed2277586c031f6f9b1b538211955d4\", element=\"ed799c0a-2f9e-418a-977b-366349de9465\")>,\n",
       " <selenium.webdriver.remote.webelement.WebElement (session=\"1ed2277586c031f6f9b1b538211955d4\", element=\"4c5fd8bd-6827-47be-abbb-9c9989c2ead8\")>,\n",
       " <selenium.webdriver.remote.webelement.WebElement (session=\"1ed2277586c031f6f9b1b538211955d4\", element=\"f066924c-a748-486c-9778-9afa9a8e8d95\")>,\n",
       " <selenium.webdriver.remote.webelement.WebElement (session=\"1ed2277586c031f6f9b1b538211955d4\", element=\"7c2dbbe2-37cc-46e8-a3f3-d09999ca221d\")>,\n",
       " <selenium.webdriver.remote.webelement.WebElement (session=\"1ed2277586c031f6f9b1b538211955d4\", element=\"82a1ae5b-470b-47ff-ae19-e93b5661ee5d\")>,\n",
       " <selenium.webdriver.remote.webelement.WebElement (session=\"1ed2277586c031f6f9b1b538211955d4\", element=\"0b64be8d-572c-44c6-b997-fa495684a493\")>,\n",
       " <selenium.webdriver.remote.webelement.WebElement (session=\"1ed2277586c031f6f9b1b538211955d4\", element=\"3a20cc2f-2619-4418-adb9-73cfd8c13a69\")>,\n",
       " <selenium.webdriver.remote.webelement.WebElement (session=\"1ed2277586c031f6f9b1b538211955d4\", element=\"281f05a2-55a5-409d-8529-c6d514d47b98\")>,\n",
       " <selenium.webdriver.remote.webelement.WebElement (session=\"1ed2277586c031f6f9b1b538211955d4\", element=\"d871e62b-84b0-4026-a5bc-ce02cc7b28b9\")>]"
      ]
     },
     "execution_count": 40,
     "metadata": {},
     "output_type": "execute_result"
    }
   ],
   "source": [
    "No_of_days_ago=driver.find_elements_by_xpath('//div[@class=\"d-flex align-items-end pl-std css-mi55ob\"]')\n",
    "No_of_days_ago"
   ]
  },
  {
   "cell_type": "code",
   "execution_count": 45,
   "metadata": {},
   "outputs": [
    {
     "data": {
      "text/plain": [
       "['24h', '6d', '4d', '30d+', '4d', '30d+', '30d+', '30d+', '24h', '6d']"
      ]
     },
     "execution_count": 45,
     "metadata": {},
     "output_type": "execute_result"
    }
   ],
   "source": [
    "no_of_days=[]\n",
    "for i in No_of_days_ago:\n",
    "    no_of_days.append(i.text)\n",
    "no_of_days[0:10]   "
   ]
  },
  {
   "cell_type": "code",
   "execution_count": 69,
   "metadata": {},
   "outputs": [
    {
     "data": {
      "text/plain": [
       "['3.9', '3.7', '3.7', '5.0', '4.0', '3.7', '3.8', '4.0', '4.0', '3.8']"
      ]
     },
     "execution_count": 69,
     "metadata": {},
     "output_type": "execute_result"
    }
   ],
   "source": [
    "Rating=driver.find_elements_by_xpath('//span[@class=\"css-19pjha7 e1cjmv6j1\"]')\n",
    "rating=[]\n",
    "for i in Rating:\n",
    "    rating.append(i.text)\n",
    "rating[0:10]  "
   ]
  },
  {
   "cell_type": "code",
   "execution_count": 70,
   "metadata": {},
   "outputs": [
    {
     "data": {
      "text/html": [
       "<div>\n",
       "<style scoped>\n",
       "    .dataframe tbody tr th:only-of-type {\n",
       "        vertical-align: middle;\n",
       "    }\n",
       "\n",
       "    .dataframe tbody tr th {\n",
       "        vertical-align: top;\n",
       "    }\n",
       "\n",
       "    .dataframe thead th {\n",
       "        text-align: right;\n",
       "    }\n",
       "</style>\n",
       "<table border=\"1\" class=\"dataframe\">\n",
       "  <thead>\n",
       "    <tr style=\"text-align: right;\">\n",
       "      <th></th>\n",
       "      <th>Company_name</th>\n",
       "      <th>No_of_days_ago</th>\n",
       "      <th>Rating</th>\n",
       "    </tr>\n",
       "  </thead>\n",
       "  <tbody>\n",
       "    <tr>\n",
       "      <th>0</th>\n",
       "      <td>NatWest Group</td>\n",
       "      <td>24h</td>\n",
       "      <td>3.9</td>\n",
       "    </tr>\n",
       "    <tr>\n",
       "      <th>1</th>\n",
       "      <td>Crowe</td>\n",
       "      <td>6d</td>\n",
       "      <td>3.7</td>\n",
       "    </tr>\n",
       "    <tr>\n",
       "      <th>2</th>\n",
       "      <td>Amploy</td>\n",
       "      <td>4d</td>\n",
       "      <td>3.7</td>\n",
       "    </tr>\n",
       "    <tr>\n",
       "      <th>3</th>\n",
       "      <td>Biz2Credit Inc</td>\n",
       "      <td>30d+</td>\n",
       "      <td>5.0</td>\n",
       "    </tr>\n",
       "    <tr>\n",
       "      <th>4</th>\n",
       "      <td>Mogli Labs India Private Limited</td>\n",
       "      <td>4d</td>\n",
       "      <td>4.0</td>\n",
       "    </tr>\n",
       "    <tr>\n",
       "      <th>5</th>\n",
       "      <td>Techlive</td>\n",
       "      <td>30d+</td>\n",
       "      <td>3.7</td>\n",
       "    </tr>\n",
       "    <tr>\n",
       "      <th>6</th>\n",
       "      <td>CRMNEXT</td>\n",
       "      <td>30d+</td>\n",
       "      <td>3.8</td>\n",
       "    </tr>\n",
       "    <tr>\n",
       "      <th>7</th>\n",
       "      <td>WishFin</td>\n",
       "      <td>30d+</td>\n",
       "      <td>4.0</td>\n",
       "    </tr>\n",
       "    <tr>\n",
       "      <th>8</th>\n",
       "      <td>Unofin Technology LLP</td>\n",
       "      <td>24h</td>\n",
       "      <td>4.0</td>\n",
       "    </tr>\n",
       "    <tr>\n",
       "      <th>9</th>\n",
       "      <td>Jubna</td>\n",
       "      <td>6d</td>\n",
       "      <td>3.8</td>\n",
       "    </tr>\n",
       "  </tbody>\n",
       "</table>\n",
       "</div>"
      ],
      "text/plain": [
       "                       Company_name No_of_days_ago Rating\n",
       "0                     NatWest Group            24h    3.9\n",
       "1                             Crowe             6d    3.7\n",
       "2                            Amploy             4d    3.7\n",
       "3                    Biz2Credit Inc           30d+    5.0\n",
       "4  Mogli Labs India Private Limited             4d    4.0\n",
       "5                          Techlive           30d+    3.7\n",
       "6                           CRMNEXT           30d+    3.8\n",
       "7                           WishFin           30d+    4.0\n",
       "8             Unofin Technology LLP            24h    4.0\n",
       "9                             Jubna             6d    3.8"
      ]
     },
     "execution_count": 70,
     "metadata": {},
     "output_type": "execute_result"
    }
   ],
   "source": [
    "Job=pd.DataFrame()\n",
    "Job['Company_name']=company_name[0:10]\n",
    "Job['No_of_days_ago']=no_of_days[0:10]\n",
    "Job['Rating']=rating[0:10]\n",
    "Job"
   ]
  },
  {
   "cell_type": "markdown",
   "metadata": {},
   "source": [
    "5. Write a python program to scrape the salary data for Data Scientist designation \n",
    "in Noida location. You have to scrape Company name, Number of salaries, Average salary, Min\n",
    "salary, Max Salary."
   ]
  },
  {
   "cell_type": "code",
   "execution_count": 74,
   "metadata": {},
   "outputs": [],
   "source": [
    "driver=webdriver.Chrome(r'C:\\\\Users\\\\Harshit Reddy\\\\Downloads\\\\chromedriver_win32\\\\chromedriver.exe')"
   ]
  },
  {
   "cell_type": "code",
   "execution_count": 3,
   "metadata": {},
   "outputs": [],
   "source": [
    "url='https://www.glassdoor.co.in/Salaries/index.htm'\n",
    "driver.get(url)"
   ]
  },
  {
   "cell_type": "code",
   "execution_count": 4,
   "metadata": {},
   "outputs": [
    {
     "data": {
      "text/plain": [
       "<selenium.webdriver.remote.webelement.WebElement (session=\"841bce49a77e077e9c67fc7059c82e42\", element=\"f8081f23-6266-4f87-8b39-a479013ca461\")>"
      ]
     },
     "execution_count": 4,
     "metadata": {},
     "output_type": "execute_result"
    }
   ],
   "source": [
    "search_job=driver.find_element_by_id('KeywordSearch')\n",
    "search_job"
   ]
  },
  {
   "cell_type": "code",
   "execution_count": 5,
   "metadata": {},
   "outputs": [],
   "source": [
    "search_job.send_keys('Data Scientist')"
   ]
  },
  {
   "cell_type": "code",
   "execution_count": 12,
   "metadata": {},
   "outputs": [
    {
     "data": {
      "text/plain": [
       "<selenium.webdriver.remote.webelement.WebElement (session=\"841bce49a77e077e9c67fc7059c82e42\", element=\"d7810db3-4b7a-448d-a2c6-69e7edd87152\")>"
      ]
     },
     "execution_count": 12,
     "metadata": {},
     "output_type": "execute_result"
    }
   ],
   "source": [
    "search_loc=driver.find_element_by_id('LocationSearch')\n",
    "search_loc"
   ]
  },
  {
   "cell_type": "code",
   "execution_count": 13,
   "metadata": {},
   "outputs": [],
   "source": [
    "search_loc.send_keys('Noida')"
   ]
  },
  {
   "cell_type": "code",
   "execution_count": 14,
   "metadata": {},
   "outputs": [],
   "source": [
    "search_btn=driver.find_element_by_xpath('//button[@class=\"gd-btn-mkt\"]')\n",
    "search_btn.click()"
   ]
  },
  {
   "cell_type": "code",
   "execution_count": 23,
   "metadata": {},
   "outputs": [
    {
     "data": {
      "text/plain": [
       "['Tata Consultancy Services',\n",
       " 'IBM',\n",
       " 'Accenture',\n",
       " 'Ericsson-Worldwide',\n",
       " 'Delhivery',\n",
       " 'UnitedHealth Group',\n",
       " 'Optum Global Solutions',\n",
       " 'Valiance Solutions',\n",
       " 'ZS Associates',\n",
       " 'EXL Service']"
      ]
     },
     "execution_count": 23,
     "metadata": {},
     "output_type": "execute_result"
    }
   ],
   "source": [
    "Company_name=driver.find_elements_by_xpath('//a[@class=\"css-f3vw95 e1aj7ssy3\"]')\n",
    "company_tags=[]\n",
    "for i in Company_name:\n",
    "    company_tags.append(i.text)\n",
    "company_tags[0:10]    "
   ]
  },
  {
   "cell_type": "code",
   "execution_count": 26,
   "metadata": {},
   "outputs": [
    {
     "data": {
      "text/plain": [
       "['3.9', '3.9', '4', '4', '3.8', '3.6', '3.9', '4.1', '4', '3.6']"
      ]
     },
     "execution_count": 26,
     "metadata": {},
     "output_type": "execute_result"
    }
   ],
   "source": [
    "Rating=driver.find_elements_by_xpath('//span[@class=\"m-0 css-kyx745\"]')\n",
    "rating=[]\n",
    "for i in Rating:\n",
    "    rating.append(i.text)\n",
    "rating[0:10]    "
   ]
  },
  {
   "cell_type": "code",
   "execution_count": 40,
   "metadata": {},
   "outputs": [
    {
     "data": {
      "text/plain": [
       "['₹ 6,14,306',\n",
       " '₹ 9,00,000',\n",
       " '₹ 11,46,533',\n",
       " '₹ 7,38,057',\n",
       " '₹ 12,39,781',\n",
       " '₹ 13,36,142',\n",
       " '₹ 13,26,575',\n",
       " '₹ 8,15,192',\n",
       " '₹ 11,35,221',\n",
       " '₹ 11,44,243']"
      ]
     },
     "execution_count": 40,
     "metadata": {},
     "output_type": "execute_result"
    }
   ],
   "source": [
    "Average_salary=driver.find_elements_by_xpath('//div[@class=\"col-12 col-lg-4 px-lg-0 d-flex align-items-baseline\"]/h3')\n",
    "average_salary=[]\n",
    "for i in Average_salary:\n",
    "    average_salary.append(i.text)\n",
    "average_salary[0:10]    "
   ]
  },
  {
   "cell_type": "code",
   "execution_count": 53,
   "metadata": {},
   "outputs": [
    {
     "data": {
      "text/plain": [
       "['Range: ₹343K - ₹1,250K',\n",
       " 'Range: ₹586K - ₹2,730K',\n",
       " 'Range: ₹577K - ₹2,213K',\n",
       " 'Range: ₹355K - ₹1,613K',\n",
       " 'Range: ₹450K - ₹11,622K',\n",
       " 'Range: ₹1,069K - ₹1,520K',\n",
       " 'Range: ₹350K - ₹2,149K',\n",
       " 'Range: ₹502K - ₹1,465K',\n",
       " 'Range: ₹202K - ₹1,809K',\n",
       " 'Range: ₹575K - ₹1,520K']"
      ]
     },
     "execution_count": 53,
     "metadata": {},
     "output_type": "execute_result"
    }
   ],
   "source": [
    "Min_Max_salary=driver.find_elements_by_xpath('//span[@class=\"d-block d-lg-none m-0 css-1b6bxoo\"]')\n",
    "salary=[]\n",
    "for i in Min_Max_salary:\n",
    "         salary.append(i.text)\n",
    "salary[0:10]    "
   ]
  },
  {
   "cell_type": "code",
   "execution_count": 30,
   "metadata": {},
   "outputs": [
    {
     "data": {
      "text/plain": [
       "['17 salaries',\n",
       " '15 salaries',\n",
       " '14 salaries',\n",
       " '14 salaries',\n",
       " '14 salaries',\n",
       " '11 salaries',\n",
       " '9 salaries',\n",
       " '9 salaries',\n",
       " '8 salaries',\n",
       " '8 salaries']"
      ]
     },
     "execution_count": 30,
     "metadata": {},
     "output_type": "execute_result"
    }
   ],
   "source": [
    "Number_of_salaries=driver.find_elements_by_xpath('//div[@class=\"col-12 col-lg-auto\"]')\n",
    "number=[]\n",
    "for i in Number_of_salaries:\n",
    "    number.append(i.text)\n",
    "number[0:10]    "
   ]
  },
  {
   "cell_type": "code",
   "execution_count": 54,
   "metadata": {},
   "outputs": [
    {
     "data": {
      "text/html": [
       "<div>\n",
       "<style scoped>\n",
       "    .dataframe tbody tr th:only-of-type {\n",
       "        vertical-align: middle;\n",
       "    }\n",
       "\n",
       "    .dataframe tbody tr th {\n",
       "        vertical-align: top;\n",
       "    }\n",
       "\n",
       "    .dataframe thead th {\n",
       "        text-align: right;\n",
       "    }\n",
       "</style>\n",
       "<table border=\"1\" class=\"dataframe\">\n",
       "  <thead>\n",
       "    <tr style=\"text-align: right;\">\n",
       "      <th></th>\n",
       "      <th>Company_name</th>\n",
       "      <th>Average_salary</th>\n",
       "      <th>Min_Max_salary</th>\n",
       "      <th>Number_of_salaries</th>\n",
       "      <th>rating</th>\n",
       "    </tr>\n",
       "  </thead>\n",
       "  <tbody>\n",
       "    <tr>\n",
       "      <th>0</th>\n",
       "      <td>Tata Consultancy Services</td>\n",
       "      <td>₹ 6,14,306</td>\n",
       "      <td>Range: ₹343K - ₹1,250K</td>\n",
       "      <td>17 salaries</td>\n",
       "      <td>3.9</td>\n",
       "    </tr>\n",
       "    <tr>\n",
       "      <th>1</th>\n",
       "      <td>IBM</td>\n",
       "      <td>₹ 9,00,000</td>\n",
       "      <td>Range: ₹586K - ₹2,730K</td>\n",
       "      <td>15 salaries</td>\n",
       "      <td>3.9</td>\n",
       "    </tr>\n",
       "    <tr>\n",
       "      <th>2</th>\n",
       "      <td>Accenture</td>\n",
       "      <td>₹ 11,46,533</td>\n",
       "      <td>Range: ₹577K - ₹2,213K</td>\n",
       "      <td>14 salaries</td>\n",
       "      <td>4</td>\n",
       "    </tr>\n",
       "    <tr>\n",
       "      <th>3</th>\n",
       "      <td>Ericsson-Worldwide</td>\n",
       "      <td>₹ 7,38,057</td>\n",
       "      <td>Range: ₹355K - ₹1,613K</td>\n",
       "      <td>14 salaries</td>\n",
       "      <td>4</td>\n",
       "    </tr>\n",
       "    <tr>\n",
       "      <th>4</th>\n",
       "      <td>Delhivery</td>\n",
       "      <td>₹ 12,39,781</td>\n",
       "      <td>Range: ₹450K - ₹11,622K</td>\n",
       "      <td>14 salaries</td>\n",
       "      <td>3.8</td>\n",
       "    </tr>\n",
       "    <tr>\n",
       "      <th>5</th>\n",
       "      <td>UnitedHealth Group</td>\n",
       "      <td>₹ 13,36,142</td>\n",
       "      <td>Range: ₹1,069K - ₹1,520K</td>\n",
       "      <td>11 salaries</td>\n",
       "      <td>3.6</td>\n",
       "    </tr>\n",
       "    <tr>\n",
       "      <th>6</th>\n",
       "      <td>Optum Global Solutions</td>\n",
       "      <td>₹ 13,26,575</td>\n",
       "      <td>Range: ₹350K - ₹2,149K</td>\n",
       "      <td>9 salaries</td>\n",
       "      <td>3.9</td>\n",
       "    </tr>\n",
       "    <tr>\n",
       "      <th>7</th>\n",
       "      <td>Valiance Solutions</td>\n",
       "      <td>₹ 8,15,192</td>\n",
       "      <td>Range: ₹502K - ₹1,465K</td>\n",
       "      <td>9 salaries</td>\n",
       "      <td>4.1</td>\n",
       "    </tr>\n",
       "    <tr>\n",
       "      <th>8</th>\n",
       "      <td>ZS Associates</td>\n",
       "      <td>₹ 11,35,221</td>\n",
       "      <td>Range: ₹202K - ₹1,809K</td>\n",
       "      <td>8 salaries</td>\n",
       "      <td>4</td>\n",
       "    </tr>\n",
       "    <tr>\n",
       "      <th>9</th>\n",
       "      <td>EXL Service</td>\n",
       "      <td>₹ 11,44,243</td>\n",
       "      <td>Range: ₹575K - ₹1,520K</td>\n",
       "      <td>8 salaries</td>\n",
       "      <td>3.6</td>\n",
       "    </tr>\n",
       "  </tbody>\n",
       "</table>\n",
       "</div>"
      ],
      "text/plain": [
       "                Company_name Average_salary            Min_Max_salary  \\\n",
       "0  Tata Consultancy Services     ₹ 6,14,306    Range: ₹343K - ₹1,250K   \n",
       "1                        IBM     ₹ 9,00,000    Range: ₹586K - ₹2,730K   \n",
       "2                  Accenture    ₹ 11,46,533    Range: ₹577K - ₹2,213K   \n",
       "3         Ericsson-Worldwide     ₹ 7,38,057    Range: ₹355K - ₹1,613K   \n",
       "4                  Delhivery    ₹ 12,39,781   Range: ₹450K - ₹11,622K   \n",
       "5         UnitedHealth Group    ₹ 13,36,142  Range: ₹1,069K - ₹1,520K   \n",
       "6     Optum Global Solutions    ₹ 13,26,575    Range: ₹350K - ₹2,149K   \n",
       "7         Valiance Solutions     ₹ 8,15,192    Range: ₹502K - ₹1,465K   \n",
       "8              ZS Associates    ₹ 11,35,221    Range: ₹202K - ₹1,809K   \n",
       "9                EXL Service    ₹ 11,44,243    Range: ₹575K - ₹1,520K   \n",
       "\n",
       "  Number_of_salaries rating  \n",
       "0        17 salaries    3.9  \n",
       "1        15 salaries    3.9  \n",
       "2        14 salaries      4  \n",
       "3        14 salaries      4  \n",
       "4        14 salaries    3.8  \n",
       "5        11 salaries    3.6  \n",
       "6         9 salaries    3.9  \n",
       "7         9 salaries    4.1  \n",
       "8         8 salaries      4  \n",
       "9         8 salaries    3.6  "
      ]
     },
     "execution_count": 54,
     "metadata": {},
     "output_type": "execute_result"
    }
   ],
   "source": [
    "Glassdoor=pd.DataFrame()\n",
    "Glassdoor['Company_name']=company_tags[0:10]\n",
    "Glassdoor['Average_salary']=average_salary[0:10]\n",
    "Glassdoor['Min_Max_salary']=salary[0:10]\n",
    "Glassdoor['Number_of_salaries']=number[0:10]\n",
    "Glassdoor['rating']=rating[0:10]\n",
    "Glassdoor"
   ]
  },
  {
   "cell_type": "markdown",
   "metadata": {},
   "source": [
    "6. Scrape data of first 100 sunglasses listings on flipkart.com. You have to \n",
    "scrape four attributes: 1.Brand, 2.Product Description, 3.Price, 4.Discount %"
   ]
  },
  {
   "cell_type": "code",
   "execution_count": 3,
   "metadata": {},
   "outputs": [],
   "source": [
    "from selenium.common.exceptions import NoSuchElementException\n",
    "import time"
   ]
  },
  {
   "cell_type": "code",
   "execution_count": 4,
   "metadata": {},
   "outputs": [],
   "source": [
    "url='https://www.flipkart.com/'\n",
    "driver.get(url)"
   ]
  },
  {
   "cell_type": "code",
   "execution_count": 5,
   "metadata": {},
   "outputs": [],
   "source": [
    "search_product=driver.find_element_by_xpath('//input[@class=\"_3704LK\"]')\n",
    "search_product.send_keys('Sunglasses')"
   ]
  },
  {
   "cell_type": "code",
   "execution_count": 6,
   "metadata": {},
   "outputs": [],
   "source": [
    "search_btn=driver.find_element_by_xpath('//button[@class=\"L0Z3Pu\"]')\n",
    "search_btn.click()"
   ]
  },
  {
   "cell_type": "code",
   "execution_count": 9,
   "metadata": {},
   "outputs": [],
   "source": [
    "flip_pages=[]\n",
    "for page in range(1, 4, 1):\n",
    "    \n",
    "    page_url = \"https://www.flipkart.com/search?q=sunglasses&otracker=search&otracker1=search&marketplace=FLIPKART&as-show=off&as=off&page=\" + str(page)\n",
    "    driver.get(page_url)\n",
    "    flip_pages.append(page_url)\n",
    "flip_pages\n",
    "\n",
    "urls=[]\n",
    "for u in flip_pages:\n",
    "    for i in driver.find_elements_by_xpath(\"//a[@class='_2UzuFa']\"):\n",
    "        try:\n",
    "            urls.append(i.get_attribute('href'))\n",
    "        except NoSuchElementException:\n",
    "            urls.append('-')\n",
    "    \n",
    "len(urls)\n",
    "\n",
    "Brand=[]\n",
    "Product_description=[]\n",
    "Price=[]\n",
    "Discount=[]\n",
    "\n",
    "for i in urls[:100]:\n",
    "    driver.get(i)\n",
    "    time.sleep(3)\n",
    "    \n",
    "    try:\n",
    "        product_tag=driver.find_element_by_xpath(\"//span[@class='G6XhRU']\")\n",
    "        Brand.append(product_tag.text)\n",
    "    except NoSuchElementException:\n",
    "        Brand.append('-')\n",
    "        \n",
    "    try:\n",
    "        desc_tag=driver.find_element_by_xpath(\"//span[@class='B_NuCI']\")\n",
    "        Product_description.append(desc_tag.text)\n",
    "    except NoSuchElementException:\n",
    "        Product_description.append('-')\n",
    "        \n",
    "    try:\n",
    "        price_tag=driver.find_element_by_xpath(\"//div[@class='_30jeq3 _16Jk6d']\")\n",
    "        Price.append(price_tag.text)\n",
    "    except NoSuchElementException:\n",
    "        Price.append('-')\n",
    "        \n",
    "    try:\n",
    "        discount_tag=driver.find_element_by_xpath(\"//div[@class='_3Ay6Sb _31Dcoz pZkvcx']\")\n",
    "        Discount.append(discount_tag.text)\n",
    "    except NoSuchElementException:\n",
    "        Discount.append('-')      \n"
   ]
  },
  {
   "cell_type": "code",
   "execution_count": 11,
   "metadata": {},
   "outputs": [
    {
     "data": {
      "text/html": [
       "<div>\n",
       "<style scoped>\n",
       "    .dataframe tbody tr th:only-of-type {\n",
       "        vertical-align: middle;\n",
       "    }\n",
       "\n",
       "    .dataframe tbody tr th {\n",
       "        vertical-align: top;\n",
       "    }\n",
       "\n",
       "    .dataframe thead th {\n",
       "        text-align: right;\n",
       "    }\n",
       "</style>\n",
       "<table border=\"1\" class=\"dataframe\">\n",
       "  <thead>\n",
       "    <tr style=\"text-align: right;\">\n",
       "      <th></th>\n",
       "      <th>product_tag</th>\n",
       "      <th>desc_tag</th>\n",
       "      <th>price_tag</th>\n",
       "      <th>discount_tag</th>\n",
       "    </tr>\n",
       "  </thead>\n",
       "  <tbody>\n",
       "    <tr>\n",
       "      <th>0</th>\n",
       "      <td>ROYAL SON</td>\n",
       "      <td>UV Protection Round Sunglasses (50)  (For Men &amp; Women, Clear, Silver)</td>\n",
       "      <td>₹399</td>\n",
       "      <td>73% off</td>\n",
       "    </tr>\n",
       "    <tr>\n",
       "      <th>1</th>\n",
       "      <td>ROZZETTA CRAFT</td>\n",
       "      <td>UV Protection, Gradient Retro Square Sunglasses (Free Size)  (For Men &amp; Women, Black)</td>\n",
       "      <td>₹426</td>\n",
       "      <td>78% off</td>\n",
       "    </tr>\n",
       "    <tr>\n",
       "      <th>2</th>\n",
       "      <td>ROZZETTA CRAFT</td>\n",
       "      <td>Polarized, UV Protection Aviator Sunglasses (Free Size)  (For Men &amp; Women, Black)</td>\n",
       "      <td>₹426</td>\n",
       "      <td>78% off</td>\n",
       "    </tr>\n",
       "    <tr>\n",
       "      <th>3</th>\n",
       "      <td>ROYAL SON</td>\n",
       "      <td>UV Protection Over-sized Sunglasses (65)  (For Women, Brown)</td>\n",
       "      <td>₹699</td>\n",
       "      <td>53% off</td>\n",
       "    </tr>\n",
       "    <tr>\n",
       "      <th>4</th>\n",
       "      <td>hipe</td>\n",
       "      <td>Gradient, UV Protection Round Sunglasses (Free Size)  (For Men &amp; Women, Clear, Blue)</td>\n",
       "      <td>₹219</td>\n",
       "      <td>83% off</td>\n",
       "    </tr>\n",
       "    <tr>\n",
       "      <th>...</th>\n",
       "      <td>...</td>\n",
       "      <td>...</td>\n",
       "      <td>...</td>\n",
       "      <td>...</td>\n",
       "    </tr>\n",
       "    <tr>\n",
       "      <th>95</th>\n",
       "      <td>ROYAL SON</td>\n",
       "      <td>UV Protection Retro Square Sunglasses (88)  (For Men &amp; Women, Blue)</td>\n",
       "      <td>₹479</td>\n",
       "      <td>76% off</td>\n",
       "    </tr>\n",
       "    <tr>\n",
       "      <th>96</th>\n",
       "      <td>ROYAL SON</td>\n",
       "      <td>Polarized, UV Protection Aviator Sunglasses (58)  (For Men &amp; Women, Black)</td>\n",
       "      <td>₹711</td>\n",
       "      <td>64% off</td>\n",
       "    </tr>\n",
       "    <tr>\n",
       "      <th>97</th>\n",
       "      <td>IDEE</td>\n",
       "      <td>Gradient Aviator Sunglasses (58)  (For Men &amp; Women, Grey)</td>\n",
       "      <td>₹1,037</td>\n",
       "      <td>63% off</td>\n",
       "    </tr>\n",
       "    <tr>\n",
       "      <th>98</th>\n",
       "      <td>ROYAL SON</td>\n",
       "      <td>UV Protection Retro Square Sunglasses (88)  (For Men &amp; Women, Clear)</td>\n",
       "      <td>₹569</td>\n",
       "      <td>71% off</td>\n",
       "    </tr>\n",
       "    <tr>\n",
       "      <th>99</th>\n",
       "      <td>ROYAL SON</td>\n",
       "      <td>UV Protection Retro Square Sunglasses (49)  (For Men &amp; Women, Silver)</td>\n",
       "      <td>₹664</td>\n",
       "      <td>66% off</td>\n",
       "    </tr>\n",
       "  </tbody>\n",
       "</table>\n",
       "<p>100 rows × 4 columns</p>\n",
       "</div>"
      ],
      "text/plain": [
       "        product_tag  \\\n",
       "0        ROYAL SON    \n",
       "1   ROZZETTA CRAFT    \n",
       "2   ROZZETTA CRAFT    \n",
       "3        ROYAL SON    \n",
       "4             hipe    \n",
       "..              ...   \n",
       "95       ROYAL SON    \n",
       "96       ROYAL SON    \n",
       "97            IDEE    \n",
       "98       ROYAL SON    \n",
       "99       ROYAL SON    \n",
       "\n",
       "                                                                                 desc_tag  \\\n",
       "0                   UV Protection Round Sunglasses (50)  (For Men & Women, Clear, Silver)   \n",
       "1   UV Protection, Gradient Retro Square Sunglasses (Free Size)  (For Men & Women, Black)   \n",
       "2       Polarized, UV Protection Aviator Sunglasses (Free Size)  (For Men & Women, Black)   \n",
       "3                            UV Protection Over-sized Sunglasses (65)  (For Women, Brown)   \n",
       "4    Gradient, UV Protection Round Sunglasses (Free Size)  (For Men & Women, Clear, Blue)   \n",
       "..                                                                                    ...   \n",
       "95                    UV Protection Retro Square Sunglasses (88)  (For Men & Women, Blue)   \n",
       "96             Polarized, UV Protection Aviator Sunglasses (58)  (For Men & Women, Black)   \n",
       "97                              Gradient Aviator Sunglasses (58)  (For Men & Women, Grey)   \n",
       "98                   UV Protection Retro Square Sunglasses (88)  (For Men & Women, Clear)   \n",
       "99                  UV Protection Retro Square Sunglasses (49)  (For Men & Women, Silver)   \n",
       "\n",
       "   price_tag discount_tag  \n",
       "0       ₹399      73% off  \n",
       "1       ₹426      78% off  \n",
       "2       ₹426      78% off  \n",
       "3       ₹699      53% off  \n",
       "4       ₹219      83% off  \n",
       "..       ...          ...  \n",
       "95      ₹479      76% off  \n",
       "96      ₹711      64% off  \n",
       "97    ₹1,037      63% off  \n",
       "98      ₹569      71% off  \n",
       "99      ₹664      66% off  \n",
       "\n",
       "[100 rows x 4 columns]"
      ]
     },
     "execution_count": 11,
     "metadata": {},
     "output_type": "execute_result"
    }
   ],
   "source": [
    "pd.set_option('display.max_colwidth',None)\n",
    "Flipkart=pd.DataFrame()\n",
    "Flipkart['product_tag']=Brand\n",
    "Flipkart['desc_tag']=Product_description\n",
    "Flipkart['price_tag']=Price\n",
    "Flipkart['discount_tag']=Discount\n",
    "Flipkart"
   ]
  },
  {
   "cell_type": "markdown",
   "metadata": {},
   "source": [
    "7. Scrape 100 reviews data from flipkart.com for iphone11 phone.\n",
    "These are 1. Rating 2. Review_summary 3. Full review.\n",
    "You have to scrape this data for first 100 reviews"
   ]
  },
  {
   "cell_type": "code",
   "execution_count": 23,
   "metadata": {},
   "outputs": [],
   "source": [
    "url='https://www.flipkart.com/apple-iphone-11-black-64-gb-includes-earpods-power-adapter/p/itm0f37c2240b217?pid=MOBFKCTSVZAXUHGR&lid=LSTMOBFKCTSVZAXUHGREPBFGI&marketplace'\n",
    "driver.get(url)"
   ]
  },
  {
   "cell_type": "code",
   "execution_count": 81,
   "metadata": {},
   "outputs": [
    {
     "data": {
      "text/plain": [
       "['5', '5', '5', '5', '5', '4', '5', '5', '5', '5']"
      ]
     },
     "execution_count": 81,
     "metadata": {},
     "output_type": "execute_result"
    }
   ],
   "source": [
    "Rating=driver.find_elements_by_xpath('//div[@class=\"_3LWZlK _1BLPMq\"]')\n",
    "rating=[]\n",
    "for i in Rating:\n",
    "    rating.append(i.text)\n",
    "rating    "
   ]
  },
  {
   "cell_type": "code",
   "execution_count": 82,
   "metadata": {},
   "outputs": [
    {
     "data": {
      "text/plain": [
       "['Brilliant',\n",
       " 'Perfect product!',\n",
       " 'Great product',\n",
       " 'Worth every penny',\n",
       " 'Fabulous!',\n",
       " 'Good choice',\n",
       " 'Highly recommended',\n",
       " 'Perfect product!',\n",
       " 'Perfect product!',\n",
       " 'Worth every penny']"
      ]
     },
     "execution_count": 82,
     "metadata": {},
     "output_type": "execute_result"
    }
   ],
   "source": [
    "Review_summary=driver.find_elements_by_xpath('//p[@class=\"_2-N8zT\"]')\n",
    "review=[]\n",
    "for i in Review_summary:\n",
    "    review.append(i.text)\n",
    "review    "
   ]
  },
  {
   "cell_type": "code",
   "execution_count": 83,
   "metadata": {},
   "outputs": [
    {
     "data": {
      "text/plain": [
       "['The Best Phone for the Money\\n\\nThe iPhone 11 offers superb cameras, a more durable design and excellent battery life for an affordable price.\\n\\nCompelling ultra-wide camera\\nNew Night mode is excellent\\nLong battery life',\n",
       " 'Amazing phone with great cameras and better battery which gives you the best performance. I just love the camera .',\n",
       " 'Amazing Powerful and Durable Gadget.\\n\\nI’m am very happy with the camera picture quality, Amazing face id unlocked in dark room, Strong battery with perfect screen size as you can carry easily in pocket. This is my third iPhone.\\n\\nI shifted from android Samsung Note series to iPhone because of the strong build quality and peace of mind for next 3-4 years.\\n\\nDon’t think to much just go for it and I suggest you to go for minimum 128gb variant or more 256gb.\\n\\nI’ve attached my puppy pics and no fi...\\nREAD MORE',\n",
       " 'Previously I was using one plus 3t it was a great phone\\nAnd then I decided to upgrade I am stuck between Samsung s10 plus or iPhone 11\\nI have seen the specs and everything were good except the display it’s somewhere between 720-1080 and it’s not even an amoled it’s an LCD display\\nBut I decided to go with iPhone because I have never used an IOS device I have Been an android user from the past 9 years I ordered IPhone 11 (128gb) product red\\nMy experience after using 3 weeks\\n1. The delivery ...\\nREAD MORE',\n",
       " 'This is my first iOS phone. I am very happy with this product. Very much satisfied with this. I love this phone.',\n",
       " 'So far it’s been an AMAZING experience coming back to iOS after nearly a decade but it’s not as versatile as android though phone is sturdy dropped it accidentally a couple of times and nothing happened fortunately camera is awesome',\n",
       " 'iphone 11 is a very good phone to buy only if you can compromise for the display. The display on this is device is pretty good but you can get other options with better displays in this price segment.\\nIf you can survive with an HD+ LCD panel with thicker bezels and a notch up top then this is a very good phone for you.\\nCameras are awesome, battery backup excellent, great performance and a decent premium look. Good job Apple !',\n",
       " 'It’s a must buy who is looking for an upgrade from previous generation of iPhones. If you are using XR then still you can hold on for sometime and upgrade to 2020 model else this phone is a must buy . Camera quality is amazing and wide angle is something to count upon. Performance wise it’s amazing and feels premium while holding in hand. So a big YES for this device. Go for 128 GB variant as the 4K videos will occupy lots of space and the storage can get over very quickly. Try to buy it with...\\nREAD MORE',\n",
       " 'Value for money❤️❤️\\nIts awesome mobile phone in the world ...\\nDisplay was very good and bright ..\\nTrust me freinds you r never regret after Buying..\\nJust go for it....\\nI love this phone and i switch to iphone x to 11',\n",
       " 'Best budget Iphone till date ❤️ go for it guys without second thought. Let me explain you guys about Camera, Display, battery, and performance.\\n\\nCamera: at this price range there is no comparison of camera, you’ll love the picture quality as well as video quality. I am a Vlogger I wanted an iPhone with 4k video by front camera and I got this phone and I am more than happy 😃\\n\\nBattery: I use this phone roughly as I am active social media person and I have a youtube channel. so the battery ba...\\nREAD MORE']"
      ]
     },
     "execution_count": 83,
     "metadata": {},
     "output_type": "execute_result"
    }
   ],
   "source": [
    "Full_review=driver.find_elements_by_xpath('//div[@class=\"t-ZTKy\"]')\n",
    "full_review=[]\n",
    "for i in Full_review:\n",
    "    full_review.append(i.text)\n",
    "full_review    "
   ]
  },
  {
   "cell_type": "code",
   "execution_count": 84,
   "metadata": {},
   "outputs": [
    {
     "data": {
      "text/html": [
       "<div>\n",
       "<style scoped>\n",
       "    .dataframe tbody tr th:only-of-type {\n",
       "        vertical-align: middle;\n",
       "    }\n",
       "\n",
       "    .dataframe tbody tr th {\n",
       "        vertical-align: top;\n",
       "    }\n",
       "\n",
       "    .dataframe thead th {\n",
       "        text-align: right;\n",
       "    }\n",
       "</style>\n",
       "<table border=\"1\" class=\"dataframe\">\n",
       "  <thead>\n",
       "    <tr style=\"text-align: right;\">\n",
       "      <th></th>\n",
       "      <th>Rating</th>\n",
       "      <th>Review_summary</th>\n",
       "      <th>Full_review</th>\n",
       "    </tr>\n",
       "  </thead>\n",
       "  <tbody>\n",
       "    <tr>\n",
       "      <th>0</th>\n",
       "      <td>5</td>\n",
       "      <td>Brilliant</td>\n",
       "      <td>The Best Phone for the Money\\n\\nThe iPhone 11 ...</td>\n",
       "    </tr>\n",
       "    <tr>\n",
       "      <th>1</th>\n",
       "      <td>5</td>\n",
       "      <td>Perfect product!</td>\n",
       "      <td>Amazing phone with great cameras and better ba...</td>\n",
       "    </tr>\n",
       "    <tr>\n",
       "      <th>2</th>\n",
       "      <td>5</td>\n",
       "      <td>Great product</td>\n",
       "      <td>Amazing Powerful and Durable Gadget.\\n\\nI’m am...</td>\n",
       "    </tr>\n",
       "    <tr>\n",
       "      <th>3</th>\n",
       "      <td>5</td>\n",
       "      <td>Worth every penny</td>\n",
       "      <td>Previously I was using one plus 3t it was a gr...</td>\n",
       "    </tr>\n",
       "    <tr>\n",
       "      <th>4</th>\n",
       "      <td>5</td>\n",
       "      <td>Fabulous!</td>\n",
       "      <td>This is my first iOS phone. I am very happy wi...</td>\n",
       "    </tr>\n",
       "    <tr>\n",
       "      <th>5</th>\n",
       "      <td>4</td>\n",
       "      <td>Good choice</td>\n",
       "      <td>So far it’s been an AMAZING experience coming ...</td>\n",
       "    </tr>\n",
       "    <tr>\n",
       "      <th>6</th>\n",
       "      <td>5</td>\n",
       "      <td>Highly recommended</td>\n",
       "      <td>iphone 11 is a very good phone to buy only if ...</td>\n",
       "    </tr>\n",
       "    <tr>\n",
       "      <th>7</th>\n",
       "      <td>5</td>\n",
       "      <td>Perfect product!</td>\n",
       "      <td>It’s a must buy who is looking for an upgrade ...</td>\n",
       "    </tr>\n",
       "    <tr>\n",
       "      <th>8</th>\n",
       "      <td>5</td>\n",
       "      <td>Perfect product!</td>\n",
       "      <td>Value for money❤️❤️\\nIts awesome mobile phone ...</td>\n",
       "    </tr>\n",
       "    <tr>\n",
       "      <th>9</th>\n",
       "      <td>5</td>\n",
       "      <td>Worth every penny</td>\n",
       "      <td>Best budget Iphone till date ❤️ go for it guys...</td>\n",
       "    </tr>\n",
       "  </tbody>\n",
       "</table>\n",
       "</div>"
      ],
      "text/plain": [
       "  Rating      Review_summary  \\\n",
       "0      5           Brilliant   \n",
       "1      5    Perfect product!   \n",
       "2      5       Great product   \n",
       "3      5   Worth every penny   \n",
       "4      5           Fabulous!   \n",
       "5      4         Good choice   \n",
       "6      5  Highly recommended   \n",
       "7      5    Perfect product!   \n",
       "8      5    Perfect product!   \n",
       "9      5   Worth every penny   \n",
       "\n",
       "                                         Full_review  \n",
       "0  The Best Phone for the Money\\n\\nThe iPhone 11 ...  \n",
       "1  Amazing phone with great cameras and better ba...  \n",
       "2  Amazing Powerful and Durable Gadget.\\n\\nI’m am...  \n",
       "3  Previously I was using one plus 3t it was a gr...  \n",
       "4  This is my first iOS phone. I am very happy wi...  \n",
       "5  So far it’s been an AMAZING experience coming ...  \n",
       "6  iphone 11 is a very good phone to buy only if ...  \n",
       "7  It’s a must buy who is looking for an upgrade ...  \n",
       "8  Value for money❤️❤️\\nIts awesome mobile phone ...  \n",
       "9  Best budget Iphone till date ❤️ go for it guys...  "
      ]
     },
     "execution_count": 84,
     "metadata": {},
     "output_type": "execute_result"
    }
   ],
   "source": [
    "iphone11a=pd.DataFrame()\n",
    "iphone11a['Rating']=rating\n",
    "iphone11a['Review_summary']=review\n",
    "iphone11a['Full_review']=full_review\n",
    "iphone11a"
   ]
  },
  {
   "cell_type": "code",
   "execution_count": 30,
   "metadata": {},
   "outputs": [
    {
     "data": {
      "text/plain": [
       "['5', '5', '5', '5', '4', '5', '5', '5', '5', '5']"
      ]
     },
     "execution_count": 30,
     "metadata": {},
     "output_type": "execute_result"
    }
   ],
   "source": [
    "Rating=driver.find_elements_by_xpath('//div[@class=\"_3LWZlK _1BLPMq\"]')\n",
    "rating=[]\n",
    "for i in Rating:\n",
    "    rating.append(i.text)\n",
    "rating   "
   ]
  },
  {
   "cell_type": "code",
   "execution_count": 31,
   "metadata": {},
   "outputs": [
    {
     "data": {
      "text/plain": [
       "['Perfect product!',\n",
       " 'Worth every penny',\n",
       " 'Simply awesome',\n",
       " 'Highly recommended',\n",
       " 'Nice product',\n",
       " 'Terrific',\n",
       " 'Highly recommended',\n",
       " 'Wonderful',\n",
       " 'Classy product',\n",
       " 'Brilliant']"
      ]
     },
     "execution_count": 31,
     "metadata": {},
     "output_type": "execute_result"
    }
   ],
   "source": [
    "Review_summary=driver.find_elements_by_xpath('//p[@class=\"_2-N8zT\"]')\n",
    "review=[]\n",
    "for i in Review_summary:\n",
    "    review.append(i.text)\n",
    "review    "
   ]
  },
  {
   "cell_type": "code",
   "execution_count": 32,
   "metadata": {},
   "outputs": [
    {
     "data": {
      "text/plain": [
       "[\"Iphone is just awesome.. battery backup is very very nice.. continuously for 10 hours we can use it.camera is just awesome.. display is just fab.i love it alot..i had to wait 15 days for it as i pre ordered it..overalll it's worth the price..these all images are clicked by my iPhone..and i love it.\",\n",
       " 'It’s been almost a month since I have been using this phone. I upgraded from an iPhone 8. The main issue with my 8 was battery and this phone is just awesome when it comes to battery. It lasts a day and a half for me with my regular use , internet connected always with 4g\\nCan’t move forward without saying this. Battery of this phone is a life saver when I am traveling or at work when I don’t get the option to charge\\nCamera is superb. Front cam selfies and back cam photos are just awesome.\\n...\\nREAD MORE',\n",
       " 'Excellent camera, good performance, no lag. The lcd display is also good.. but difference come when we watch movie in prime and Netflix, the colours are not vibrant.. as we see in amoled display.. and the charger in box is of 5 watts.. takes more than 3 hours to charge from 0 to 100.. so guys be prepare to buy 18 watts charger . Finally I am an android user, it was my first Iapple phone, I promise u guys the iOS is so smooth.. overall the phone is damn good.... close eyes to buy it.. thanks t...\\nREAD MORE',\n",
       " 'What a camera .....just awesome ..you can feel this iPhone just awesome . Good for gaming also ...try pubg in hd it’s just wow',\n",
       " 'Awesome Phone. Slightly high price but worth. Better than iPhone XR.\\nCamera is superb and wide angle camera is very clear.\\n12MP selfie camera is also very good.\\nA13 Chip gives a very good and smooth performance.',\n",
       " 'Really worth of money. i just love it. It is the best phone ever.',\n",
       " \"It's my first time to use iOS phone and I am loving my upgradation 😍😍 I love the color, I love the assebility of the phone....I need to learn more about its functionality, but as far as I have seen, it's quite easy and it has a lot of functions to work on, specially if you are a content writer or a blogger you get a lot of content creation platforms and they are really amazing.\\n\\nThis phone not only for good quality photography but a lot of other task too.😍💯\",\n",
       " 'This is my first ever I phone. Before this I was using my google nexus 5. But moving from android to iOS is a great experience. It’s worth at this price. I will highly recommend it if you want to move to iOS. The best part of this phone is it’s camera and it’s battery life. This two things have won my heart. I loved it. Happy to have it in my hand. Still exploring its features. And can’t forget to mention Flipkart service. Very prompt service and fast delivery.',\n",
       " 'Superb Product !!!\\nA big and worthy upgrade from mi 3S to iphone 11 .\\nTotally loved it !',\n",
       " 'I have migrated from OP 7pro... and trust me, iPhone 11 is totally worth it.. following are the reasons:-\\n1)there is ABSOLUTELY NO ISSUE WITH THE DISPLAY... its crisp, sharp and I found it to be much much better than OP7 pro. Netflix, Prime video all run crisply... you won’t miss a thing. True Tone works flawlessly...the display brightness is perfect. OP have not calibrated their screens properly.\\n2) iPhone 11 series have really good cameras... others have spoken in depth about them.\\n3) bat...\\nREAD MORE']"
      ]
     },
     "execution_count": 32,
     "metadata": {},
     "output_type": "execute_result"
    }
   ],
   "source": [
    "Full_review=driver.find_elements_by_xpath('//div[@class=\"t-ZTKy\"]')\n",
    "full_review=[]\n",
    "for i in Full_review:\n",
    "    full_review.append(i.text)\n",
    "full_review "
   ]
  },
  {
   "cell_type": "code",
   "execution_count": 33,
   "metadata": {},
   "outputs": [
    {
     "data": {
      "text/html": [
       "<div>\n",
       "<style scoped>\n",
       "    .dataframe tbody tr th:only-of-type {\n",
       "        vertical-align: middle;\n",
       "    }\n",
       "\n",
       "    .dataframe tbody tr th {\n",
       "        vertical-align: top;\n",
       "    }\n",
       "\n",
       "    .dataframe thead th {\n",
       "        text-align: right;\n",
       "    }\n",
       "</style>\n",
       "<table border=\"1\" class=\"dataframe\">\n",
       "  <thead>\n",
       "    <tr style=\"text-align: right;\">\n",
       "      <th></th>\n",
       "      <th>Rating</th>\n",
       "      <th>Review_summary</th>\n",
       "      <th>Full_review</th>\n",
       "    </tr>\n",
       "  </thead>\n",
       "  <tbody>\n",
       "    <tr>\n",
       "      <th>0</th>\n",
       "      <td>5</td>\n",
       "      <td>Perfect product!</td>\n",
       "      <td>Iphone is just awesome.. battery backup is ver...</td>\n",
       "    </tr>\n",
       "    <tr>\n",
       "      <th>1</th>\n",
       "      <td>5</td>\n",
       "      <td>Worth every penny</td>\n",
       "      <td>It’s been almost a month since I have been usi...</td>\n",
       "    </tr>\n",
       "    <tr>\n",
       "      <th>2</th>\n",
       "      <td>5</td>\n",
       "      <td>Simply awesome</td>\n",
       "      <td>Excellent camera, good performance, no lag. Th...</td>\n",
       "    </tr>\n",
       "    <tr>\n",
       "      <th>3</th>\n",
       "      <td>5</td>\n",
       "      <td>Highly recommended</td>\n",
       "      <td>What a camera .....just awesome ..you can feel...</td>\n",
       "    </tr>\n",
       "    <tr>\n",
       "      <th>4</th>\n",
       "      <td>4</td>\n",
       "      <td>Nice product</td>\n",
       "      <td>Awesome Phone. Slightly high price but worth. ...</td>\n",
       "    </tr>\n",
       "    <tr>\n",
       "      <th>5</th>\n",
       "      <td>5</td>\n",
       "      <td>Terrific</td>\n",
       "      <td>Really worth of money. i just love it. It is t...</td>\n",
       "    </tr>\n",
       "    <tr>\n",
       "      <th>6</th>\n",
       "      <td>5</td>\n",
       "      <td>Highly recommended</td>\n",
       "      <td>It's my first time to use iOS phone and I am l...</td>\n",
       "    </tr>\n",
       "    <tr>\n",
       "      <th>7</th>\n",
       "      <td>5</td>\n",
       "      <td>Wonderful</td>\n",
       "      <td>This is my first ever I phone. Before this I w...</td>\n",
       "    </tr>\n",
       "    <tr>\n",
       "      <th>8</th>\n",
       "      <td>5</td>\n",
       "      <td>Classy product</td>\n",
       "      <td>Superb Product !!!\\nA big and worthy upgrade f...</td>\n",
       "    </tr>\n",
       "    <tr>\n",
       "      <th>9</th>\n",
       "      <td>5</td>\n",
       "      <td>Brilliant</td>\n",
       "      <td>I have migrated from OP 7pro... and trust me, ...</td>\n",
       "    </tr>\n",
       "  </tbody>\n",
       "</table>\n",
       "</div>"
      ],
      "text/plain": [
       "  Rating      Review_summary  \\\n",
       "0      5    Perfect product!   \n",
       "1      5   Worth every penny   \n",
       "2      5      Simply awesome   \n",
       "3      5  Highly recommended   \n",
       "4      4        Nice product   \n",
       "5      5            Terrific   \n",
       "6      5  Highly recommended   \n",
       "7      5           Wonderful   \n",
       "8      5      Classy product   \n",
       "9      5           Brilliant   \n",
       "\n",
       "                                         Full_review  \n",
       "0  Iphone is just awesome.. battery backup is ver...  \n",
       "1  It’s been almost a month since I have been usi...  \n",
       "2  Excellent camera, good performance, no lag. Th...  \n",
       "3  What a camera .....just awesome ..you can feel...  \n",
       "4  Awesome Phone. Slightly high price but worth. ...  \n",
       "5  Really worth of money. i just love it. It is t...  \n",
       "6  It's my first time to use iOS phone and I am l...  \n",
       "7  This is my first ever I phone. Before this I w...  \n",
       "8  Superb Product !!!\\nA big and worthy upgrade f...  \n",
       "9  I have migrated from OP 7pro... and trust me, ...  "
      ]
     },
     "execution_count": 33,
     "metadata": {},
     "output_type": "execute_result"
    }
   ],
   "source": [
    "iphone11b=pd.DataFrame()\n",
    "iphone11b['Rating']=rating\n",
    "iphone11b['Review_summary']=review\n",
    "iphone11b['Full_review']=full_review\n",
    "iphone11b"
   ]
  },
  {
   "cell_type": "code",
   "execution_count": 41,
   "metadata": {},
   "outputs": [
    {
     "data": {
      "text/plain": [
       "['5', '5', '5', '5', '5', '5', '5', '5', '4', '4']"
      ]
     },
     "execution_count": 41,
     "metadata": {},
     "output_type": "execute_result"
    }
   ],
   "source": [
    "Rating=driver.find_elements_by_xpath('//div[@class=\"_3LWZlK _1BLPMq\"]')\n",
    "rating=[]\n",
    "for i in Rating:\n",
    "    rating.append(i.text)\n",
    "rating   "
   ]
  },
  {
   "cell_type": "code",
   "execution_count": 42,
   "metadata": {},
   "outputs": [
    {
     "data": {
      "text/plain": [
       "['Best in the market!',\n",
       " 'Must buy!',\n",
       " 'Fabulous!',\n",
       " 'Mind-blowing purchase',\n",
       " 'Mind-blowing purchase',\n",
       " 'Wonderful',\n",
       " 'Worth every penny',\n",
       " 'Great product',\n",
       " 'Good choice',\n",
       " 'Very Good']"
      ]
     },
     "execution_count": 42,
     "metadata": {},
     "output_type": "execute_result"
    }
   ],
   "source": [
    "Review_summary=driver.find_elements_by_xpath('//p[@class=\"_2-N8zT\"]')\n",
    "review=[]\n",
    "for i in Review_summary:\n",
    "    review.append(i.text)\n",
    "review"
   ]
  },
  {
   "cell_type": "code",
   "execution_count": 43,
   "metadata": {},
   "outputs": [
    {
     "data": {
      "text/plain": [
       "['Great iPhone very snappy experience as apple kind. Upgraded from iPhone 7.\\nPros\\n-Camera top class\\n- Battery top performed\\n-Chipset no need to say as apple kind\\n-Security as you expect from apple\\n- Display super bright industry leading colour\\naccuracy and super responsive\\n-Build quality as expect from apple sturdy\\npremium durable beautiful stylish.\\n-Os most stable os in smartphone industry\\n\\nCons\\n-No 5G\\n-Display is not based on OLED technology\\n-Charger headphones and 1 apple stic...\\nREAD MORE',\n",
       " 'Best Apple iPhone that i have bought at a very reasonable price, camera quality is next level just awesome n of superior quality android phones not even close(RIP) to that and also battery is really good but packaging by Flipkart of iPhone was very poor of such a expensive product, firstly im bit worried about the quality of product if i purchased it through online how was the product but i think now this was mine best decision to bought it through Flipkart online because i got genuine Apple...\\nREAD MORE',\n",
       " \"I can say I'm damn impressed with iPhone 11. As they says iPhone 11 have the toughest glass ever in the smartphone which you'll find on the front and back and it's totally smooth. The fit and finish is full apple quality - there's no sense that any cheaping out has happened in the construction. Without saying it's camera features this review won't complete. The iPhone 11 has a dual camera system, consisting of a wide angle len's that's pretty much same as found on the iPhone XR last year, but...\\nREAD MORE\",\n",
       " 'Best Quality Product OF iPhone Series , Sound Quality & Camera quality is very awesome, Battery Life is very Sufficient for 24 hr Backup With Full Internet Access , I love this this Product too much , It is very fast & making me Very fast in all my daily Routine\\nHighlights;\\n1.Camera: 5 STAR\\n2.Video Recording: 5 star\\n3.Night mODE sHOOTING & Camera:4 star\\n4. Audio Quality: Awesome\\n5. Battery : 5 Star\\n6. Touch:5 Star\\n7. Processor: Very Fast\\nThe M...\\nREAD MORE',\n",
       " 'First thanks to Flipkart for this amazing deal and phone is outstanding. I upgraded from iPhone 7 and this is like very big upgrade. But the packaging was very basic I expected a good packaging as they only wrapped one layer of bubble wrap which I don’t think is enough to protect this expensive phone. And I recommend this phone and seller as well.\\n\\nAnd I’m posting this review after using it for 4 days.',\n",
       " 'Superfast delivery by Flipkart. Thanks.\\n\\n1. iPhone 11 is a pretty solid phone for the money you are paying.\\n2. All the bad reviews about the display is confusing. It’s not that bad.\\n3. I switched from a Oneplus 7t. I have no complaints about the display quality of iPhone. Yes, it’s not OLED, so, we are missing on the deep blacks. But that’s it. It is a very colour accurate display. Gets adequately bright and I could not find any pixelation.\\n4. Performance is one of the best, if not best, in ...\\nREAD MORE',\n",
       " 'Smooth like butter, camera like fantabulous, sound is crystal clear & its red color is damn attractive, i am just loving it. Must buy if you love photography.\\n\\nLucky to get it in sale, thank you Flipkart.',\n",
       " \"Again back to apple iphone after a gap of 2-3 years. It's pleasure to use iOS and the quality product by Apple. Iphone 11 still works like a beast in 2021 also. It really capable of doing day to day usage as well as hard core gaming. Battery is awesome. I'm really too much satisfied with it. Apart fto the very gorgious IPS LCD (AMOLED will be better) everything is mind boggling. Iphone💕.\",\n",
       " 'Looking so good 👍 😍 super 👌 stylish 😎 phone\\nClean box 📦 good 👍 delivery 👌 fast delivery\\nOriginal box Original iphone 📱 👌 😍😍😍',\n",
       " 'impressive super phone and best in class camera ,sound and face unlock is super fast just see and phone is unlock and fast in daily apps use']"
      ]
     },
     "execution_count": 43,
     "metadata": {},
     "output_type": "execute_result"
    }
   ],
   "source": [
    "Full_review=driver.find_elements_by_xpath('//div[@class=\"t-ZTKy\"]')\n",
    "full_review=[]\n",
    "for i in Full_review:\n",
    "    full_review.append(i.text)\n",
    "full_review "
   ]
  },
  {
   "cell_type": "code",
   "execution_count": 44,
   "metadata": {},
   "outputs": [
    {
     "data": {
      "text/html": [
       "<div>\n",
       "<style scoped>\n",
       "    .dataframe tbody tr th:only-of-type {\n",
       "        vertical-align: middle;\n",
       "    }\n",
       "\n",
       "    .dataframe tbody tr th {\n",
       "        vertical-align: top;\n",
       "    }\n",
       "\n",
       "    .dataframe thead th {\n",
       "        text-align: right;\n",
       "    }\n",
       "</style>\n",
       "<table border=\"1\" class=\"dataframe\">\n",
       "  <thead>\n",
       "    <tr style=\"text-align: right;\">\n",
       "      <th></th>\n",
       "      <th>Rating</th>\n",
       "      <th>Review_summary</th>\n",
       "      <th>Full_review</th>\n",
       "    </tr>\n",
       "  </thead>\n",
       "  <tbody>\n",
       "    <tr>\n",
       "      <th>0</th>\n",
       "      <td>5</td>\n",
       "      <td>Best in the market!</td>\n",
       "      <td>Great iPhone very snappy experience as apple k...</td>\n",
       "    </tr>\n",
       "    <tr>\n",
       "      <th>1</th>\n",
       "      <td>5</td>\n",
       "      <td>Must buy!</td>\n",
       "      <td>Best Apple iPhone that i have bought at a very...</td>\n",
       "    </tr>\n",
       "    <tr>\n",
       "      <th>2</th>\n",
       "      <td>5</td>\n",
       "      <td>Fabulous!</td>\n",
       "      <td>I can say I'm damn impressed with iPhone 11. A...</td>\n",
       "    </tr>\n",
       "    <tr>\n",
       "      <th>3</th>\n",
       "      <td>5</td>\n",
       "      <td>Mind-blowing purchase</td>\n",
       "      <td>Best Quality Product OF iPhone Series , Sound ...</td>\n",
       "    </tr>\n",
       "    <tr>\n",
       "      <th>4</th>\n",
       "      <td>5</td>\n",
       "      <td>Mind-blowing purchase</td>\n",
       "      <td>First thanks to Flipkart for this amazing deal...</td>\n",
       "    </tr>\n",
       "    <tr>\n",
       "      <th>5</th>\n",
       "      <td>5</td>\n",
       "      <td>Wonderful</td>\n",
       "      <td>Superfast delivery by Flipkart. Thanks.\\n\\n1. ...</td>\n",
       "    </tr>\n",
       "    <tr>\n",
       "      <th>6</th>\n",
       "      <td>5</td>\n",
       "      <td>Worth every penny</td>\n",
       "      <td>Smooth like butter, camera like fantabulous, s...</td>\n",
       "    </tr>\n",
       "    <tr>\n",
       "      <th>7</th>\n",
       "      <td>5</td>\n",
       "      <td>Great product</td>\n",
       "      <td>Again back to apple iphone after a gap of 2-3 ...</td>\n",
       "    </tr>\n",
       "    <tr>\n",
       "      <th>8</th>\n",
       "      <td>4</td>\n",
       "      <td>Good choice</td>\n",
       "      <td>Looking so good 👍 😍 super 👌 stylish 😎 phone\\nC...</td>\n",
       "    </tr>\n",
       "    <tr>\n",
       "      <th>9</th>\n",
       "      <td>4</td>\n",
       "      <td>Very Good</td>\n",
       "      <td>impressive super phone and best in class camer...</td>\n",
       "    </tr>\n",
       "  </tbody>\n",
       "</table>\n",
       "</div>"
      ],
      "text/plain": [
       "  Rating         Review_summary  \\\n",
       "0      5    Best in the market!   \n",
       "1      5              Must buy!   \n",
       "2      5              Fabulous!   \n",
       "3      5  Mind-blowing purchase   \n",
       "4      5  Mind-blowing purchase   \n",
       "5      5              Wonderful   \n",
       "6      5      Worth every penny   \n",
       "7      5          Great product   \n",
       "8      4            Good choice   \n",
       "9      4              Very Good   \n",
       "\n",
       "                                         Full_review  \n",
       "0  Great iPhone very snappy experience as apple k...  \n",
       "1  Best Apple iPhone that i have bought at a very...  \n",
       "2  I can say I'm damn impressed with iPhone 11. A...  \n",
       "3  Best Quality Product OF iPhone Series , Sound ...  \n",
       "4  First thanks to Flipkart for this amazing deal...  \n",
       "5  Superfast delivery by Flipkart. Thanks.\\n\\n1. ...  \n",
       "6  Smooth like butter, camera like fantabulous, s...  \n",
       "7  Again back to apple iphone after a gap of 2-3 ...  \n",
       "8  Looking so good 👍 😍 super 👌 stylish 😎 phone\\nC...  \n",
       "9  impressive super phone and best in class camer...  "
      ]
     },
     "execution_count": 44,
     "metadata": {},
     "output_type": "execute_result"
    }
   ],
   "source": [
    "iphone11d=pd.DataFrame()\n",
    "iphone11d['Rating']=rating\n",
    "iphone11d['Review_summary']=review\n",
    "iphone11d['Full_review']=full_review\n",
    "iphone11d"
   ]
  },
  {
   "cell_type": "code",
   "execution_count": 50,
   "metadata": {},
   "outputs": [],
   "source": [
    "Rating=driver.find_elements_by_xpath('//div[@class=\"_3LWZlK _1BLPMq\"]')\n",
    "rating=[]\n",
    "for i in Rating:\n",
    "    rating.append(i.text)  \n",
    "Review_summary=driver.find_elements_by_xpath('//p[@class=\"_2-N8zT\"]')\n",
    "review=[]\n",
    "for i in Review_summary:\n",
    "    review.append(i.text)\n",
    "Full_review=driver.find_elements_by_xpath('//div[@class=\"t-ZTKy\"]')\n",
    "full_review=[]\n",
    "for i in Full_review:\n",
    "    full_review.append(i.text)    "
   ]
  },
  {
   "cell_type": "code",
   "execution_count": 51,
   "metadata": {},
   "outputs": [
    {
     "data": {
      "text/html": [
       "<div>\n",
       "<style scoped>\n",
       "    .dataframe tbody tr th:only-of-type {\n",
       "        vertical-align: middle;\n",
       "    }\n",
       "\n",
       "    .dataframe tbody tr th {\n",
       "        vertical-align: top;\n",
       "    }\n",
       "\n",
       "    .dataframe thead th {\n",
       "        text-align: right;\n",
       "    }\n",
       "</style>\n",
       "<table border=\"1\" class=\"dataframe\">\n",
       "  <thead>\n",
       "    <tr style=\"text-align: right;\">\n",
       "      <th></th>\n",
       "      <th>Rating</th>\n",
       "      <th>Review_summary</th>\n",
       "      <th>Full_review</th>\n",
       "    </tr>\n",
       "  </thead>\n",
       "  <tbody>\n",
       "    <tr>\n",
       "      <th>0</th>\n",
       "      <td>5</td>\n",
       "      <td>Perfect product!</td>\n",
       "      <td>Battery backup is extraordinary, camera is dec...</td>\n",
       "    </tr>\n",
       "    <tr>\n",
       "      <th>1</th>\n",
       "      <td>5</td>\n",
       "      <td>Classy product</td>\n",
       "      <td>Well while switching from android to iOS the f...</td>\n",
       "    </tr>\n",
       "    <tr>\n",
       "      <th>2</th>\n",
       "      <td>5</td>\n",
       "      <td>Perfect product!</td>\n",
       "      <td>In love with this iphone great performance,cam...</td>\n",
       "    </tr>\n",
       "    <tr>\n",
       "      <th>3</th>\n",
       "      <td>5</td>\n",
       "      <td>Just wow!</td>\n",
       "      <td>Best in class. Battery backup is good especial...</td>\n",
       "    </tr>\n",
       "    <tr>\n",
       "      <th>4</th>\n",
       "      <td>5</td>\n",
       "      <td>Awesome</td>\n",
       "      <td>Very excited to have this phone. This phone ha...</td>\n",
       "    </tr>\n",
       "    <tr>\n",
       "      <th>5</th>\n",
       "      <td>5</td>\n",
       "      <td>Terrific</td>\n",
       "      <td>I upgraded (downgraded?) from my iPhone X sinc...</td>\n",
       "    </tr>\n",
       "    <tr>\n",
       "      <th>6</th>\n",
       "      <td>5</td>\n",
       "      <td>Terrific purchase</td>\n",
       "      <td>Its Very awesome product working and good came...</td>\n",
       "    </tr>\n",
       "    <tr>\n",
       "      <th>7</th>\n",
       "      <td>5</td>\n",
       "      <td>Perfect product!</td>\n",
       "      <td>Best and amazing product.....phone looks so pr...</td>\n",
       "    </tr>\n",
       "    <tr>\n",
       "      <th>8</th>\n",
       "      <td>5</td>\n",
       "      <td>Brilliant</td>\n",
       "      <td>Excellent camera and display touching very nic...</td>\n",
       "    </tr>\n",
       "    <tr>\n",
       "      <th>9</th>\n",
       "      <td>5</td>\n",
       "      <td>Perfect product!</td>\n",
       "      <td>Awesome purchase. Amazing phone with good batt...</td>\n",
       "    </tr>\n",
       "  </tbody>\n",
       "</table>\n",
       "</div>"
      ],
      "text/plain": [
       "  Rating     Review_summary                                        Full_review\n",
       "0      5   Perfect product!  Battery backup is extraordinary, camera is dec...\n",
       "1      5     Classy product  Well while switching from android to iOS the f...\n",
       "2      5   Perfect product!  In love with this iphone great performance,cam...\n",
       "3      5          Just wow!  Best in class. Battery backup is good especial...\n",
       "4      5            Awesome  Very excited to have this phone. This phone ha...\n",
       "5      5           Terrific  I upgraded (downgraded?) from my iPhone X sinc...\n",
       "6      5  Terrific purchase  Its Very awesome product working and good came...\n",
       "7      5   Perfect product!  Best and amazing product.....phone looks so pr...\n",
       "8      5          Brilliant  Excellent camera and display touching very nic...\n",
       "9      5   Perfect product!  Awesome purchase. Amazing phone with good batt..."
      ]
     },
     "execution_count": 51,
     "metadata": {},
     "output_type": "execute_result"
    }
   ],
   "source": [
    "iphone11e=pd.DataFrame()\n",
    "iphone11e['Rating']=rating\n",
    "iphone11e['Review_summary']=review\n",
    "iphone11e['Full_review']=full_review\n",
    "iphone11e"
   ]
  },
  {
   "cell_type": "code",
   "execution_count": 55,
   "metadata": {},
   "outputs": [],
   "source": [
    "Rating=driver.find_elements_by_xpath('//div[@class=\"_3LWZlK _1BLPMq\"]')\n",
    "rating=[]\n",
    "for i in Rating:\n",
    "    rating.append(i.text)  \n",
    "Review_summary=driver.find_elements_by_xpath('//p[@class=\"_2-N8zT\"]')\n",
    "review=[]\n",
    "for i in Review_summary:\n",
    "    review.append(i.text)\n",
    "Full_review=driver.find_elements_by_xpath('//div[@class=\"t-ZTKy\"]')\n",
    "full_review=[]\n",
    "for i in Full_review:\n",
    "    full_review.append(i.text)  "
   ]
  },
  {
   "cell_type": "code",
   "execution_count": 59,
   "metadata": {},
   "outputs": [
    {
     "data": {
      "text/html": [
       "<div>\n",
       "<style scoped>\n",
       "    .dataframe tbody tr th:only-of-type {\n",
       "        vertical-align: middle;\n",
       "    }\n",
       "\n",
       "    .dataframe tbody tr th {\n",
       "        vertical-align: top;\n",
       "    }\n",
       "\n",
       "    .dataframe thead th {\n",
       "        text-align: right;\n",
       "    }\n",
       "</style>\n",
       "<table border=\"1\" class=\"dataframe\">\n",
       "  <thead>\n",
       "    <tr style=\"text-align: right;\">\n",
       "      <th></th>\n",
       "      <th>Rating</th>\n",
       "      <th>Review_summary</th>\n",
       "      <th>Full_review</th>\n",
       "    </tr>\n",
       "  </thead>\n",
       "  <tbody>\n",
       "    <tr>\n",
       "      <th>0</th>\n",
       "      <td>4</td>\n",
       "      <td>Good quality product</td>\n",
       "      <td>I'm switching this phone to oppo reno 10x zoom...</td>\n",
       "    </tr>\n",
       "    <tr>\n",
       "      <th>1</th>\n",
       "      <td>5</td>\n",
       "      <td>Simply awesome</td>\n",
       "      <td>Really satisfied with the Product I received.....</td>\n",
       "    </tr>\n",
       "    <tr>\n",
       "      <th>2</th>\n",
       "      <td>5</td>\n",
       "      <td>Perfect product!</td>\n",
       "      <td>Worth the money’ starting first from its perfo...</td>\n",
       "    </tr>\n",
       "    <tr>\n",
       "      <th>3</th>\n",
       "      <td>5</td>\n",
       "      <td>Worth every penny</td>\n",
       "      <td>i11 is worthy to buy, too much happy with the ...</td>\n",
       "    </tr>\n",
       "    <tr>\n",
       "      <th>4</th>\n",
       "      <td>4</td>\n",
       "      <td>Value-for-money</td>\n",
       "      <td>I'm Really happy with the product\\nDelivery wa...</td>\n",
       "    </tr>\n",
       "    <tr>\n",
       "      <th>5</th>\n",
       "      <td>5</td>\n",
       "      <td>Just wow!</td>\n",
       "      <td>Great iphone.\\nI am writing this review after ...</td>\n",
       "    </tr>\n",
       "    <tr>\n",
       "      <th>6</th>\n",
       "      <td>5</td>\n",
       "      <td>Super!</td>\n",
       "      <td>Did an upgrade from 6s plus to iphone 11.\\nAo ...</td>\n",
       "    </tr>\n",
       "    <tr>\n",
       "      <th>7</th>\n",
       "      <td>5</td>\n",
       "      <td>Perfect product!</td>\n",
       "      <td>It is just awesome mobile for this price from ...</td>\n",
       "    </tr>\n",
       "    <tr>\n",
       "      <th>8</th>\n",
       "      <td>5</td>\n",
       "      <td>Perfect product!</td>\n",
       "      <td>Value for money\\n5 star rating\\nExcellent came...</td>\n",
       "    </tr>\n",
       "    <tr>\n",
       "      <th>9</th>\n",
       "      <td>5</td>\n",
       "      <td>Mind-blowing purchase</td>\n",
       "      <td>awesome Phone Smooth Touch Too good Sexyy look...</td>\n",
       "    </tr>\n",
       "  </tbody>\n",
       "</table>\n",
       "</div>"
      ],
      "text/plain": [
       "  Rating         Review_summary  \\\n",
       "0      4   Good quality product   \n",
       "1      5         Simply awesome   \n",
       "2      5       Perfect product!   \n",
       "3      5      Worth every penny   \n",
       "4      4        Value-for-money   \n",
       "5      5              Just wow!   \n",
       "6      5                 Super!   \n",
       "7      5       Perfect product!   \n",
       "8      5       Perfect product!   \n",
       "9      5  Mind-blowing purchase   \n",
       "\n",
       "                                         Full_review  \n",
       "0  I'm switching this phone to oppo reno 10x zoom...  \n",
       "1  Really satisfied with the Product I received.....  \n",
       "2  Worth the money’ starting first from its perfo...  \n",
       "3  i11 is worthy to buy, too much happy with the ...  \n",
       "4  I'm Really happy with the product\\nDelivery wa...  \n",
       "5  Great iphone.\\nI am writing this review after ...  \n",
       "6  Did an upgrade from 6s plus to iphone 11.\\nAo ...  \n",
       "7  It is just awesome mobile for this price from ...  \n",
       "8  Value for money\\n5 star rating\\nExcellent came...  \n",
       "9  awesome Phone Smooth Touch Too good Sexyy look...  "
      ]
     },
     "execution_count": 59,
     "metadata": {},
     "output_type": "execute_result"
    }
   ],
   "source": [
    "iphone11g=pd.DataFrame()\n",
    "iphone11g['Rating']=rating\n",
    "iphone11g['Review_summary']=review\n",
    "iphone11g['Full_review']=full_review\n",
    "iphone11g"
   ]
  },
  {
   "cell_type": "code",
   "execution_count": 60,
   "metadata": {},
   "outputs": [],
   "source": [
    "Rating=driver.find_elements_by_xpath('//div[@class=\"_3LWZlK _1BLPMq\"]')\n",
    "rating=[]\n",
    "for i in Rating:\n",
    "    rating.append(i.text)  \n",
    "Review_summary=driver.find_elements_by_xpath('//p[@class=\"_2-N8zT\"]')\n",
    "review=[]\n",
    "for i in Review_summary:\n",
    "    review.append(i.text)\n",
    "Full_review=driver.find_elements_by_xpath('//div[@class=\"t-ZTKy\"]')\n",
    "full_review=[]\n",
    "for i in Full_review:\n",
    "    full_review.append(i.text) "
   ]
  },
  {
   "cell_type": "code",
   "execution_count": 61,
   "metadata": {},
   "outputs": [
    {
     "data": {
      "text/html": [
       "<div>\n",
       "<style scoped>\n",
       "    .dataframe tbody tr th:only-of-type {\n",
       "        vertical-align: middle;\n",
       "    }\n",
       "\n",
       "    .dataframe tbody tr th {\n",
       "        vertical-align: top;\n",
       "    }\n",
       "\n",
       "    .dataframe thead th {\n",
       "        text-align: right;\n",
       "    }\n",
       "</style>\n",
       "<table border=\"1\" class=\"dataframe\">\n",
       "  <thead>\n",
       "    <tr style=\"text-align: right;\">\n",
       "      <th></th>\n",
       "      <th>Rating</th>\n",
       "      <th>Review_summary</th>\n",
       "      <th>Full_review</th>\n",
       "    </tr>\n",
       "  </thead>\n",
       "  <tbody>\n",
       "    <tr>\n",
       "      <th>0</th>\n",
       "      <td>4</td>\n",
       "      <td>Value-for-money</td>\n",
       "      <td>Just got this iphone 11\\nAnd it is most powerf...</td>\n",
       "    </tr>\n",
       "    <tr>\n",
       "      <th>1</th>\n",
       "      <td>5</td>\n",
       "      <td>Must buy!</td>\n",
       "      <td>Damn this phone is a blast . Upgraded from and...</td>\n",
       "    </tr>\n",
       "    <tr>\n",
       "      <th>2</th>\n",
       "      <td>5</td>\n",
       "      <td>Must buy!</td>\n",
       "      <td>I rate this product 5* as it has got amazing u...</td>\n",
       "    </tr>\n",
       "    <tr>\n",
       "      <th>3</th>\n",
       "      <td>5</td>\n",
       "      <td>Fabulous!</td>\n",
       "      <td>I purchased the iPhone 11 a month back. I must...</td>\n",
       "    </tr>\n",
       "    <tr>\n",
       "      <th>4</th>\n",
       "      <td>5</td>\n",
       "      <td>Excellent</td>\n",
       "      <td>Just go for it.\\nThis phone is really amazing....</td>\n",
       "    </tr>\n",
       "    <tr>\n",
       "      <th>5</th>\n",
       "      <td>4</td>\n",
       "      <td>Good quality product</td>\n",
       "      <td>I was torn between the oneplus 8 pro and the i...</td>\n",
       "    </tr>\n",
       "    <tr>\n",
       "      <th>6</th>\n",
       "      <td>5</td>\n",
       "      <td>Awesome</td>\n",
       "      <td>I am using this phone for 5 days and its one o...</td>\n",
       "    </tr>\n",
       "    <tr>\n",
       "      <th>7</th>\n",
       "      <td>5</td>\n",
       "      <td>Mind-blowing purchase</td>\n",
       "      <td>Absolutely powerful gadget. Loved it’s look! S...</td>\n",
       "    </tr>\n",
       "    <tr>\n",
       "      <th>8</th>\n",
       "      <td>5</td>\n",
       "      <td>Terrific purchase</td>\n",
       "      <td>I use a Note10+ and have been using both iOS a...</td>\n",
       "    </tr>\n",
       "    <tr>\n",
       "      <th>9</th>\n",
       "      <td>5</td>\n",
       "      <td>Awesome</td>\n",
       "      <td>The phone is completely good\\nAs far as camera...</td>\n",
       "    </tr>\n",
       "  </tbody>\n",
       "</table>\n",
       "</div>"
      ],
      "text/plain": [
       "  Rating         Review_summary  \\\n",
       "0      4        Value-for-money   \n",
       "1      5              Must buy!   \n",
       "2      5              Must buy!   \n",
       "3      5              Fabulous!   \n",
       "4      5              Excellent   \n",
       "5      4   Good quality product   \n",
       "6      5                Awesome   \n",
       "7      5  Mind-blowing purchase   \n",
       "8      5      Terrific purchase   \n",
       "9      5                Awesome   \n",
       "\n",
       "                                         Full_review  \n",
       "0  Just got this iphone 11\\nAnd it is most powerf...  \n",
       "1  Damn this phone is a blast . Upgraded from and...  \n",
       "2  I rate this product 5* as it has got amazing u...  \n",
       "3  I purchased the iPhone 11 a month back. I must...  \n",
       "4  Just go for it.\\nThis phone is really amazing....  \n",
       "5  I was torn between the oneplus 8 pro and the i...  \n",
       "6  I am using this phone for 5 days and its one o...  \n",
       "7  Absolutely powerful gadget. Loved it’s look! S...  \n",
       "8  I use a Note10+ and have been using both iOS a...  \n",
       "9  The phone is completely good\\nAs far as camera...  "
      ]
     },
     "execution_count": 61,
     "metadata": {},
     "output_type": "execute_result"
    }
   ],
   "source": [
    "iphone11h=pd.DataFrame()\n",
    "iphone11h['Rating']=rating\n",
    "iphone11h['Review_summary']=review\n",
    "iphone11h['Full_review']=full_review\n",
    "iphone11h"
   ]
  },
  {
   "cell_type": "code",
   "execution_count": 62,
   "metadata": {},
   "outputs": [],
   "source": [
    "Rating=driver.find_elements_by_xpath('//div[@class=\"_3LWZlK _1BLPMq\"]')\n",
    "rating=[]\n",
    "for i in Rating:\n",
    "    rating.append(i.text)  \n",
    "Review_summary=driver.find_elements_by_xpath('//p[@class=\"_2-N8zT\"]')\n",
    "review=[]\n",
    "for i in Review_summary:\n",
    "    review.append(i.text)\n",
    "Full_review=driver.find_elements_by_xpath('//div[@class=\"t-ZTKy\"]')\n",
    "full_review=[]\n",
    "for i in Full_review:\n",
    "    full_review.append(i.text) "
   ]
  },
  {
   "cell_type": "code",
   "execution_count": 63,
   "metadata": {},
   "outputs": [
    {
     "data": {
      "text/html": [
       "<div>\n",
       "<style scoped>\n",
       "    .dataframe tbody tr th:only-of-type {\n",
       "        vertical-align: middle;\n",
       "    }\n",
       "\n",
       "    .dataframe tbody tr th {\n",
       "        vertical-align: top;\n",
       "    }\n",
       "\n",
       "    .dataframe thead th {\n",
       "        text-align: right;\n",
       "    }\n",
       "</style>\n",
       "<table border=\"1\" class=\"dataframe\">\n",
       "  <thead>\n",
       "    <tr style=\"text-align: right;\">\n",
       "      <th></th>\n",
       "      <th>Rating</th>\n",
       "      <th>Review_summary</th>\n",
       "      <th>Full_review</th>\n",
       "    </tr>\n",
       "  </thead>\n",
       "  <tbody>\n",
       "    <tr>\n",
       "      <th>0</th>\n",
       "      <td>3</td>\n",
       "      <td>Decent product</td>\n",
       "      <td>Everything u ll like it when u use this iPhone...</td>\n",
       "    </tr>\n",
       "    <tr>\n",
       "      <th>1</th>\n",
       "      <td>5</td>\n",
       "      <td>Just wow!</td>\n",
       "      <td>The ultimate performance\\nCamera is superb\\nTh...</td>\n",
       "    </tr>\n",
       "    <tr>\n",
       "      <th>2</th>\n",
       "      <td>5</td>\n",
       "      <td>Super!</td>\n",
       "      <td>It's a great phone. From camera to display eve...</td>\n",
       "    </tr>\n",
       "    <tr>\n",
       "      <th>3</th>\n",
       "      <td>5</td>\n",
       "      <td>Super!</td>\n",
       "      <td>This is my first ever iPhone.\\nAnd I truly don...</td>\n",
       "    </tr>\n",
       "    <tr>\n",
       "      <th>4</th>\n",
       "      <td>5</td>\n",
       "      <td>Awesome</td>\n",
       "      <td>Can’t beat the software and hardware integrati...</td>\n",
       "    </tr>\n",
       "    <tr>\n",
       "      <th>5</th>\n",
       "      <td>5</td>\n",
       "      <td>Excellent</td>\n",
       "      <td>Value for money product. This iphone 11 is rea...</td>\n",
       "    </tr>\n",
       "    <tr>\n",
       "      <th>6</th>\n",
       "      <td>5</td>\n",
       "      <td>Highly recommended</td>\n",
       "      <td>Thanks Flipkart For this amazing deal! I had a...</td>\n",
       "    </tr>\n",
       "    <tr>\n",
       "      <th>7</th>\n",
       "      <td>5</td>\n",
       "      <td>Excellent</td>\n",
       "      <td>It was amazing experience for me. Honestly i a...</td>\n",
       "    </tr>\n",
       "    <tr>\n",
       "      <th>8</th>\n",
       "      <td>4</td>\n",
       "      <td>Wonderful</td>\n",
       "      <td>I genuinely liked it. One of the best mobile p...</td>\n",
       "    </tr>\n",
       "    <tr>\n",
       "      <th>9</th>\n",
       "      <td>4</td>\n",
       "      <td>Nice product</td>\n",
       "      <td>If you are looking for a premium phone under 5...</td>\n",
       "    </tr>\n",
       "  </tbody>\n",
       "</table>\n",
       "</div>"
      ],
      "text/plain": [
       "  Rating      Review_summary  \\\n",
       "0      3      Decent product   \n",
       "1      5           Just wow!   \n",
       "2      5              Super!   \n",
       "3      5              Super!   \n",
       "4      5             Awesome   \n",
       "5      5           Excellent   \n",
       "6      5  Highly recommended   \n",
       "7      5           Excellent   \n",
       "8      4           Wonderful   \n",
       "9      4        Nice product   \n",
       "\n",
       "                                         Full_review  \n",
       "0  Everything u ll like it when u use this iPhone...  \n",
       "1  The ultimate performance\\nCamera is superb\\nTh...  \n",
       "2  It's a great phone. From camera to display eve...  \n",
       "3  This is my first ever iPhone.\\nAnd I truly don...  \n",
       "4  Can’t beat the software and hardware integrati...  \n",
       "5  Value for money product. This iphone 11 is rea...  \n",
       "6  Thanks Flipkart For this amazing deal! I had a...  \n",
       "7  It was amazing experience for me. Honestly i a...  \n",
       "8  I genuinely liked it. One of the best mobile p...  \n",
       "9  If you are looking for a premium phone under 5...  "
      ]
     },
     "execution_count": 63,
     "metadata": {},
     "output_type": "execute_result"
    }
   ],
   "source": [
    "iphone11i=pd.DataFrame()\n",
    "iphone11i['Rating']=rating\n",
    "iphone11i['Review_summary']=review\n",
    "iphone11i['Full_review']=full_review\n",
    "iphone11i"
   ]
  },
  {
   "cell_type": "code",
   "execution_count": 67,
   "metadata": {},
   "outputs": [],
   "source": [
    "Rating=driver.find_elements_by_xpath('//div[@class=\"_3LWZlK _1BLPMq\"]')\n",
    "rating=[]\n",
    "for i in Rating:\n",
    "    rating.append(i.text)  \n",
    "Review_summary=driver.find_elements_by_xpath('//p[@class=\"_2-N8zT\"]')\n",
    "review=[]\n",
    "for i in Review_summary:\n",
    "    review.append(i.text)\n",
    "Full_review=driver.find_elements_by_xpath('//div[@class=\"t-ZTKy\"]')\n",
    "full_review=[]\n",
    "for i in Full_review:\n",
    "    full_review.append(i.text) "
   ]
  },
  {
   "cell_type": "code",
   "execution_count": 68,
   "metadata": {},
   "outputs": [
    {
     "data": {
      "text/html": [
       "<div>\n",
       "<style scoped>\n",
       "    .dataframe tbody tr th:only-of-type {\n",
       "        vertical-align: middle;\n",
       "    }\n",
       "\n",
       "    .dataframe tbody tr th {\n",
       "        vertical-align: top;\n",
       "    }\n",
       "\n",
       "    .dataframe thead th {\n",
       "        text-align: right;\n",
       "    }\n",
       "</style>\n",
       "<table border=\"1\" class=\"dataframe\">\n",
       "  <thead>\n",
       "    <tr style=\"text-align: right;\">\n",
       "      <th></th>\n",
       "      <th>Rating</th>\n",
       "      <th>Review_summary</th>\n",
       "      <th>Full_review</th>\n",
       "    </tr>\n",
       "  </thead>\n",
       "  <tbody>\n",
       "    <tr>\n",
       "      <th>0</th>\n",
       "      <td>4</td>\n",
       "      <td>Good quality product</td>\n",
       "      <td>Awesome camera, smooth and fast UI, display is...</td>\n",
       "    </tr>\n",
       "    <tr>\n",
       "      <th>1</th>\n",
       "      <td>5</td>\n",
       "      <td>Wonderful</td>\n",
       "      <td>Nice value for money good and best price I pho...</td>\n",
       "    </tr>\n",
       "    <tr>\n",
       "      <th>2</th>\n",
       "      <td>5</td>\n",
       "      <td>Best in the market!</td>\n",
       "      <td>The best all rounder iphone. Flipkart is doing...</td>\n",
       "    </tr>\n",
       "    <tr>\n",
       "      <th>3</th>\n",
       "      <td>5</td>\n",
       "      <td>Excellent</td>\n",
       "      <td>A perfect phone and a good battery super camer...</td>\n",
       "    </tr>\n",
       "    <tr>\n",
       "      <th>4</th>\n",
       "      <td>5</td>\n",
       "      <td>Classy product</td>\n",
       "      <td>We are on apple ecosystem for almost eight yea...</td>\n",
       "    </tr>\n",
       "    <tr>\n",
       "      <th>5</th>\n",
       "      <td>5</td>\n",
       "      <td>Mind-blowing purchase</td>\n",
       "      <td>i was confused between 11 and 11 pro. i was go...</td>\n",
       "    </tr>\n",
       "    <tr>\n",
       "      <th>6</th>\n",
       "      <td>3</td>\n",
       "      <td>Does the job</td>\n",
       "      <td>phone is good but in display is 720p lcd in th...</td>\n",
       "    </tr>\n",
       "    <tr>\n",
       "      <th>7</th>\n",
       "      <td>5</td>\n",
       "      <td>Fabulous!</td>\n",
       "      <td>Everything is perfect pictures come out so cle...</td>\n",
       "    </tr>\n",
       "    <tr>\n",
       "      <th>8</th>\n",
       "      <td>5</td>\n",
       "      <td>Awesome</td>\n",
       "      <td>I dreamt about this day from a long time.... G...</td>\n",
       "    </tr>\n",
       "    <tr>\n",
       "      <th>9</th>\n",
       "      <td>5</td>\n",
       "      <td>Classy product</td>\n",
       "      <td>Got my iPhone 11 today! It’s totally worth it ...</td>\n",
       "    </tr>\n",
       "  </tbody>\n",
       "</table>\n",
       "</div>"
      ],
      "text/plain": [
       "  Rating         Review_summary  \\\n",
       "0      4   Good quality product   \n",
       "1      5              Wonderful   \n",
       "2      5    Best in the market!   \n",
       "3      5              Excellent   \n",
       "4      5         Classy product   \n",
       "5      5  Mind-blowing purchase   \n",
       "6      3           Does the job   \n",
       "7      5              Fabulous!   \n",
       "8      5                Awesome   \n",
       "9      5         Classy product   \n",
       "\n",
       "                                         Full_review  \n",
       "0  Awesome camera, smooth and fast UI, display is...  \n",
       "1  Nice value for money good and best price I pho...  \n",
       "2  The best all rounder iphone. Flipkart is doing...  \n",
       "3  A perfect phone and a good battery super camer...  \n",
       "4  We are on apple ecosystem for almost eight yea...  \n",
       "5  i was confused between 11 and 11 pro. i was go...  \n",
       "6  phone is good but in display is 720p lcd in th...  \n",
       "7  Everything is perfect pictures come out so cle...  \n",
       "8  I dreamt about this day from a long time.... G...  \n",
       "9  Got my iPhone 11 today! It’s totally worth it ...  "
      ]
     },
     "execution_count": 68,
     "metadata": {},
     "output_type": "execute_result"
    }
   ],
   "source": [
    "iphone11j=pd.DataFrame()\n",
    "iphone11j['Rating']=rating\n",
    "iphone11j['Review_summary']=review\n",
    "iphone11j['Full_review']=full_review\n",
    "iphone11j"
   ]
  },
  {
   "cell_type": "code",
   "execution_count": 70,
   "metadata": {},
   "outputs": [],
   "source": [
    "Rating=driver.find_elements_by_xpath('//div[@class=\"_3LWZlK _1BLPMq\"]')\n",
    "rating=[]\n",
    "for i in Rating:\n",
    "    rating.append(i.text)  \n",
    "Review_summary=driver.find_elements_by_xpath('//p[@class=\"_2-N8zT\"]')\n",
    "review=[]\n",
    "for i in Review_summary:\n",
    "    review.append(i.text)\n",
    "Full_review=driver.find_elements_by_xpath('//div[@class=\"t-ZTKy\"]')\n",
    "full_review=[]\n",
    "for i in Full_review:\n",
    "    full_review.append(i.text) "
   ]
  },
  {
   "cell_type": "code",
   "execution_count": 71,
   "metadata": {},
   "outputs": [
    {
     "data": {
      "text/html": [
       "<div>\n",
       "<style scoped>\n",
       "    .dataframe tbody tr th:only-of-type {\n",
       "        vertical-align: middle;\n",
       "    }\n",
       "\n",
       "    .dataframe tbody tr th {\n",
       "        vertical-align: top;\n",
       "    }\n",
       "\n",
       "    .dataframe thead th {\n",
       "        text-align: right;\n",
       "    }\n",
       "</style>\n",
       "<table border=\"1\" class=\"dataframe\">\n",
       "  <thead>\n",
       "    <tr style=\"text-align: right;\">\n",
       "      <th></th>\n",
       "      <th>Rating</th>\n",
       "      <th>Review_summary</th>\n",
       "      <th>Full_review</th>\n",
       "    </tr>\n",
       "  </thead>\n",
       "  <tbody>\n",
       "    <tr>\n",
       "      <th>0</th>\n",
       "      <td>5</td>\n",
       "      <td>Super!</td>\n",
       "      <td>Good display in this phone however screen is L...</td>\n",
       "    </tr>\n",
       "    <tr>\n",
       "      <th>1</th>\n",
       "      <td>4</td>\n",
       "      <td>Pretty good</td>\n",
       "      <td>I've used this phone for over a month now and ...</td>\n",
       "    </tr>\n",
       "    <tr>\n",
       "      <th>2</th>\n",
       "      <td>5</td>\n",
       "      <td>Brilliant</td>\n",
       "      <td>Wow wow and wow, in 48k you will not get anyth...</td>\n",
       "    </tr>\n",
       "    <tr>\n",
       "      <th>3</th>\n",
       "      <td>5</td>\n",
       "      <td>Most Price worthy Iphone</td>\n",
       "      <td>Reviewing within 1st Month\\n\\n\\n1st Month Revi...</td>\n",
       "    </tr>\n",
       "    <tr>\n",
       "      <th>4</th>\n",
       "      <td>5</td>\n",
       "      <td>Excellent</td>\n",
       "      <td>Seller - SuperComNet ( my trust in you has gro...</td>\n",
       "    </tr>\n",
       "    <tr>\n",
       "      <th>5</th>\n",
       "      <td>5</td>\n",
       "      <td>Terrific purchase</td>\n",
       "      <td>Well , as we all know if its not an Iphone , i...</td>\n",
       "    </tr>\n",
       "    <tr>\n",
       "      <th>6</th>\n",
       "      <td>5</td>\n",
       "      <td>Fabulous!</td>\n",
       "      <td>Product is nice at the deviled time the delive...</td>\n",
       "    </tr>\n",
       "    <tr>\n",
       "      <th>7</th>\n",
       "      <td>5</td>\n",
       "      <td>Worth every penny</td>\n",
       "      <td>iPhone is delivered on time. Display is great ...</td>\n",
       "    </tr>\n",
       "    <tr>\n",
       "      <th>8</th>\n",
       "      <td>5</td>\n",
       "      <td>Fabulous!</td>\n",
       "      <td>Just an awesome phone...upgraded from 6s to 11...</td>\n",
       "    </tr>\n",
       "    <tr>\n",
       "      <th>9</th>\n",
       "      <td>4</td>\n",
       "      <td>Value-for-money</td>\n",
       "      <td>As usual a great product from Apple. but the l...</td>\n",
       "    </tr>\n",
       "  </tbody>\n",
       "</table>\n",
       "</div>"
      ],
      "text/plain": [
       "  Rating            Review_summary  \\\n",
       "0      5                    Super!   \n",
       "1      4               Pretty good   \n",
       "2      5                 Brilliant   \n",
       "3      5  Most Price worthy Iphone   \n",
       "4      5                 Excellent   \n",
       "5      5         Terrific purchase   \n",
       "6      5                 Fabulous!   \n",
       "7      5         Worth every penny   \n",
       "8      5                 Fabulous!   \n",
       "9      4           Value-for-money   \n",
       "\n",
       "                                         Full_review  \n",
       "0  Good display in this phone however screen is L...  \n",
       "1  I've used this phone for over a month now and ...  \n",
       "2  Wow wow and wow, in 48k you will not get anyth...  \n",
       "3  Reviewing within 1st Month\\n\\n\\n1st Month Revi...  \n",
       "4  Seller - SuperComNet ( my trust in you has gro...  \n",
       "5  Well , as we all know if its not an Iphone , i...  \n",
       "6  Product is nice at the deviled time the delive...  \n",
       "7  iPhone is delivered on time. Display is great ...  \n",
       "8  Just an awesome phone...upgraded from 6s to 11...  \n",
       "9  As usual a great product from Apple. but the l...  "
      ]
     },
     "execution_count": 71,
     "metadata": {},
     "output_type": "execute_result"
    }
   ],
   "source": [
    "iphone11k=pd.DataFrame()\n",
    "iphone11k['Rating']=rating\n",
    "iphone11k['Review_summary']=review\n",
    "iphone11k['Full_review']=full_review\n",
    "iphone11k"
   ]
  },
  {
   "cell_type": "code",
   "execution_count": 72,
   "metadata": {},
   "outputs": [],
   "source": [
    "Rating=driver.find_elements_by_xpath('//div[@class=\"_3LWZlK _1BLPMq\"]')\n",
    "rating=[]\n",
    "for i in Rating:\n",
    "    rating.append(i.text)  \n",
    "Review_summary=driver.find_elements_by_xpath('//p[@class=\"_2-N8zT\"]')\n",
    "review=[]\n",
    "for i in Review_summary:\n",
    "    review.append(i.text)\n",
    "Full_review=driver.find_elements_by_xpath('//div[@class=\"t-ZTKy\"]')\n",
    "full_review=[]\n",
    "for i in Full_review:\n",
    "    full_review.append(i.text) "
   ]
  },
  {
   "cell_type": "code",
   "execution_count": 73,
   "metadata": {},
   "outputs": [
    {
     "data": {
      "text/html": [
       "<div>\n",
       "<style scoped>\n",
       "    .dataframe tbody tr th:only-of-type {\n",
       "        vertical-align: middle;\n",
       "    }\n",
       "\n",
       "    .dataframe tbody tr th {\n",
       "        vertical-align: top;\n",
       "    }\n",
       "\n",
       "    .dataframe thead th {\n",
       "        text-align: right;\n",
       "    }\n",
       "</style>\n",
       "<table border=\"1\" class=\"dataframe\">\n",
       "  <thead>\n",
       "    <tr style=\"text-align: right;\">\n",
       "      <th></th>\n",
       "      <th>Rating</th>\n",
       "      <th>Review_summary</th>\n",
       "      <th>Full_review</th>\n",
       "    </tr>\n",
       "  </thead>\n",
       "  <tbody>\n",
       "    <tr>\n",
       "      <th>0</th>\n",
       "      <td>5</td>\n",
       "      <td>Super!</td>\n",
       "      <td>Good display in this phone however screen is L...</td>\n",
       "    </tr>\n",
       "    <tr>\n",
       "      <th>1</th>\n",
       "      <td>4</td>\n",
       "      <td>Pretty good</td>\n",
       "      <td>I've used this phone for over a month now and ...</td>\n",
       "    </tr>\n",
       "    <tr>\n",
       "      <th>2</th>\n",
       "      <td>5</td>\n",
       "      <td>Brilliant</td>\n",
       "      <td>Wow wow and wow, in 48k you will not get anyth...</td>\n",
       "    </tr>\n",
       "    <tr>\n",
       "      <th>3</th>\n",
       "      <td>5</td>\n",
       "      <td>Most Price worthy Iphone</td>\n",
       "      <td>Reviewing within 1st Month\\n\\n\\n1st Month Revi...</td>\n",
       "    </tr>\n",
       "    <tr>\n",
       "      <th>4</th>\n",
       "      <td>5</td>\n",
       "      <td>Excellent</td>\n",
       "      <td>Seller - SuperComNet ( my trust in you has gro...</td>\n",
       "    </tr>\n",
       "    <tr>\n",
       "      <th>5</th>\n",
       "      <td>5</td>\n",
       "      <td>Terrific purchase</td>\n",
       "      <td>Well , as we all know if its not an Iphone , i...</td>\n",
       "    </tr>\n",
       "    <tr>\n",
       "      <th>6</th>\n",
       "      <td>5</td>\n",
       "      <td>Fabulous!</td>\n",
       "      <td>Product is nice at the deviled time the delive...</td>\n",
       "    </tr>\n",
       "    <tr>\n",
       "      <th>7</th>\n",
       "      <td>5</td>\n",
       "      <td>Worth every penny</td>\n",
       "      <td>iPhone is delivered on time. Display is great ...</td>\n",
       "    </tr>\n",
       "    <tr>\n",
       "      <th>8</th>\n",
       "      <td>5</td>\n",
       "      <td>Fabulous!</td>\n",
       "      <td>Just an awesome phone...upgraded from 6s to 11...</td>\n",
       "    </tr>\n",
       "    <tr>\n",
       "      <th>9</th>\n",
       "      <td>4</td>\n",
       "      <td>Value-for-money</td>\n",
       "      <td>As usual a great product from Apple. but the l...</td>\n",
       "    </tr>\n",
       "  </tbody>\n",
       "</table>\n",
       "</div>"
      ],
      "text/plain": [
       "  Rating            Review_summary  \\\n",
       "0      5                    Super!   \n",
       "1      4               Pretty good   \n",
       "2      5                 Brilliant   \n",
       "3      5  Most Price worthy Iphone   \n",
       "4      5                 Excellent   \n",
       "5      5         Terrific purchase   \n",
       "6      5                 Fabulous!   \n",
       "7      5         Worth every penny   \n",
       "8      5                 Fabulous!   \n",
       "9      4           Value-for-money   \n",
       "\n",
       "                                         Full_review  \n",
       "0  Good display in this phone however screen is L...  \n",
       "1  I've used this phone for over a month now and ...  \n",
       "2  Wow wow and wow, in 48k you will not get anyth...  \n",
       "3  Reviewing within 1st Month\\n\\n\\n1st Month Revi...  \n",
       "4  Seller - SuperComNet ( my trust in you has gro...  \n",
       "5  Well , as we all know if its not an Iphone , i...  \n",
       "6  Product is nice at the deviled time the delive...  \n",
       "7  iPhone is delivered on time. Display is great ...  \n",
       "8  Just an awesome phone...upgraded from 6s to 11...  \n",
       "9  As usual a great product from Apple. but the l...  "
      ]
     },
     "execution_count": 73,
     "metadata": {},
     "output_type": "execute_result"
    }
   ],
   "source": [
    "iphone11l=pd.DataFrame()\n",
    "iphone11l['Rating']=rating\n",
    "iphone11l['Review_summary']=review\n",
    "iphone11l['Full_review']=full_review\n",
    "iphone11l"
   ]
  },
  {
   "cell_type": "code",
   "execution_count": 86,
   "metadata": {},
   "outputs": [
    {
     "data": {
      "text/html": [
       "<div>\n",
       "<style scoped>\n",
       "    .dataframe tbody tr th:only-of-type {\n",
       "        vertical-align: middle;\n",
       "    }\n",
       "\n",
       "    .dataframe tbody tr th {\n",
       "        vertical-align: top;\n",
       "    }\n",
       "\n",
       "    .dataframe thead th {\n",
       "        text-align: right;\n",
       "    }\n",
       "</style>\n",
       "<table border=\"1\" class=\"dataframe\">\n",
       "  <thead>\n",
       "    <tr style=\"text-align: right;\">\n",
       "      <th></th>\n",
       "      <th>Rating</th>\n",
       "      <th>Review_summary</th>\n",
       "      <th>Full_review</th>\n",
       "    </tr>\n",
       "  </thead>\n",
       "  <tbody>\n",
       "    <tr>\n",
       "      <th>0</th>\n",
       "      <td>5</td>\n",
       "      <td>Brilliant</td>\n",
       "      <td>The Best Phone for the Money\\n\\nThe iPhone 11 ...</td>\n",
       "    </tr>\n",
       "    <tr>\n",
       "      <th>1</th>\n",
       "      <td>5</td>\n",
       "      <td>Perfect product!</td>\n",
       "      <td>Amazing phone with great cameras and better ba...</td>\n",
       "    </tr>\n",
       "    <tr>\n",
       "      <th>2</th>\n",
       "      <td>5</td>\n",
       "      <td>Great product</td>\n",
       "      <td>Amazing Powerful and Durable Gadget.\\n\\nI’m am...</td>\n",
       "    </tr>\n",
       "    <tr>\n",
       "      <th>3</th>\n",
       "      <td>5</td>\n",
       "      <td>Worth every penny</td>\n",
       "      <td>Previously I was using one plus 3t it was a gr...</td>\n",
       "    </tr>\n",
       "    <tr>\n",
       "      <th>4</th>\n",
       "      <td>5</td>\n",
       "      <td>Fabulous!</td>\n",
       "      <td>This is my first iOS phone. I am very happy wi...</td>\n",
       "    </tr>\n",
       "    <tr>\n",
       "      <th>...</th>\n",
       "      <td>...</td>\n",
       "      <td>...</td>\n",
       "      <td>...</td>\n",
       "    </tr>\n",
       "    <tr>\n",
       "      <th>95</th>\n",
       "      <td>5</td>\n",
       "      <td>Terrific purchase</td>\n",
       "      <td>Well , as we all know if its not an Iphone , i...</td>\n",
       "    </tr>\n",
       "    <tr>\n",
       "      <th>96</th>\n",
       "      <td>5</td>\n",
       "      <td>Fabulous!</td>\n",
       "      <td>Product is nice at the deviled time the delive...</td>\n",
       "    </tr>\n",
       "    <tr>\n",
       "      <th>97</th>\n",
       "      <td>5</td>\n",
       "      <td>Worth every penny</td>\n",
       "      <td>iPhone is delivered on time. Display is great ...</td>\n",
       "    </tr>\n",
       "    <tr>\n",
       "      <th>98</th>\n",
       "      <td>5</td>\n",
       "      <td>Fabulous!</td>\n",
       "      <td>Just an awesome phone...upgraded from 6s to 11...</td>\n",
       "    </tr>\n",
       "    <tr>\n",
       "      <th>99</th>\n",
       "      <td>4</td>\n",
       "      <td>Value-for-money</td>\n",
       "      <td>As usual a great product from Apple. but the l...</td>\n",
       "    </tr>\n",
       "  </tbody>\n",
       "</table>\n",
       "<p>100 rows × 3 columns</p>\n",
       "</div>"
      ],
      "text/plain": [
       "   Rating     Review_summary  \\\n",
       "0       5          Brilliant   \n",
       "1       5   Perfect product!   \n",
       "2       5      Great product   \n",
       "3       5  Worth every penny   \n",
       "4       5          Fabulous!   \n",
       "..    ...                ...   \n",
       "95      5  Terrific purchase   \n",
       "96      5          Fabulous!   \n",
       "97      5  Worth every penny   \n",
       "98      5          Fabulous!   \n",
       "99      4    Value-for-money   \n",
       "\n",
       "                                          Full_review  \n",
       "0   The Best Phone for the Money\\n\\nThe iPhone 11 ...  \n",
       "1   Amazing phone with great cameras and better ba...  \n",
       "2   Amazing Powerful and Durable Gadget.\\n\\nI’m am...  \n",
       "3   Previously I was using one plus 3t it was a gr...  \n",
       "4   This is my first iOS phone. I am very happy wi...  \n",
       "..                                                ...  \n",
       "95  Well , as we all know if its not an Iphone , i...  \n",
       "96  Product is nice at the deviled time the delive...  \n",
       "97  iPhone is delivered on time. Display is great ...  \n",
       "98  Just an awesome phone...upgraded from 6s to 11...  \n",
       "99  As usual a great product from Apple. but the l...  \n",
       "\n",
       "[100 rows x 3 columns]"
      ]
     },
     "execution_count": 86,
     "metadata": {},
     "output_type": "execute_result"
    }
   ],
   "source": [
    "df=pd.concat([iphone11a,iphone11b,iphone11d,iphone11e,iphone11g,iphone11h,iphone11i,iphone11j,iphone11k,iphone11l],ignore_index=True)\n",
    "df"
   ]
  },
  {
   "cell_type": "markdown",
   "metadata": {},
   "source": [
    "8. Scrape data for first 100 sneakers you find when you visit flipkart.com and \n",
    "search for “sneakers” in the search field. You have to scrape 4 attributes of each sneaker :1. Brand 2. Product Description 3. Price 4. discount %"
   ]
  },
  {
   "cell_type": "code",
   "execution_count": 26,
   "metadata": {},
   "outputs": [],
   "source": [
    "url='https://www.flipkart.com/'\n",
    "driver.get(url)"
   ]
  },
  {
   "cell_type": "code",
   "execution_count": 27,
   "metadata": {},
   "outputs": [],
   "source": [
    "search_product=driver.find_element_by_xpath('//input[@class=\"_3704LK\"]')\n",
    "search_product.send_keys('Sneakers')"
   ]
  },
  {
   "cell_type": "code",
   "execution_count": 29,
   "metadata": {},
   "outputs": [],
   "source": [
    "search_btn=driver.find_element_by_xpath('//button[@class=\"L0Z3Pu\"]')\n",
    "search_btn.click()"
   ]
  },
  {
   "cell_type": "code",
   "execution_count": 30,
   "metadata": {},
   "outputs": [
    {
     "data": {
      "text/plain": [
       "['https://www.flipkart.com/search?q=Sneakers&otracker=search&otracker1=search&marketplace=FLIPKART&as-show=on&as=off1',\n",
       " 'https://www.flipkart.com/search?q=Sneakers&otracker=search&otracker1=search&marketplace=FLIPKART&as-show=on&as=off2',\n",
       " 'https://www.flipkart.com/search?q=Sneakers&otracker=search&otracker1=search&marketplace=FLIPKART&as-show=on&as=off3']"
      ]
     },
     "execution_count": 30,
     "metadata": {},
     "output_type": "execute_result"
    }
   ],
   "source": [
    "flip_pages=[]\n",
    "for page in range(1,4,1):\n",
    "    page_url='https://www.flipkart.com/search?q=Sneakers&otracker=search&otracker1=search&marketplace=FLIPKART&as-show=on&as=off' +str(page)\n",
    "    driver.get(page_url)\n",
    "    flip_pages.append(page_url)\n",
    "flip_pages"
   ]
  },
  {
   "cell_type": "code",
   "execution_count": 31,
   "metadata": {},
   "outputs": [
    {
     "data": {
      "text/plain": [
       "120"
      ]
     },
     "execution_count": 31,
     "metadata": {},
     "output_type": "execute_result"
    }
   ],
   "source": [
    "urls=[]\n",
    "for i in flip_pages:\n",
    "    for j in driver.find_elements_by_xpath(\"//a[@class='_2UzuFa']\"):\n",
    "        try:\n",
    "            urls.append(j.get_attribute('href'))\n",
    "        except NoSuchElementException:\n",
    "            urls.append('-')\n",
    "len(urls)            "
   ]
  },
  {
   "cell_type": "code",
   "execution_count": 32,
   "metadata": {},
   "outputs": [
    {
     "name": "stdout",
     "output_type": "stream",
     "text": [
      "100\n",
      "100\n",
      "100\n",
      "100\n"
     ]
    }
   ],
   "source": [
    "Brand=[]\n",
    "Product_description=[]\n",
    "Price=[]\n",
    "Discount=[]\n",
    "\n",
    "for i in urls[:100]:\n",
    "    driver.get(i)\n",
    "    time.sleep(3)\n",
    "    \n",
    "    try:\n",
    "        product_tag=driver.find_element_by_xpath(\"//span[@class='G6XhRU']\")\n",
    "        Brand.append(product_tag.text)\n",
    "    except NoSuchElementException:\n",
    "        Brand.append('-')\n",
    "        \n",
    "    try:\n",
    "        desc_tag=driver.find_element_by_xpath(\"//span[@class='B_NuCI']\")\n",
    "        Product_description.append(desc_tag.text)\n",
    "    except NoSuchElementException:\n",
    "        Product_description.append('-')\n",
    "        \n",
    "    try:\n",
    "        price_tag=driver.find_element_by_xpath(\"//div[@class='_30jeq3 _16Jk6d']\")\n",
    "        Price.append(price_tag.text)\n",
    "    except NoSuchElementException:\n",
    "        Price.append('-')\n",
    "        \n",
    "    try:\n",
    "        discount_tag=driver.find_element_by_xpath(\"//div[@class='_3Ay6Sb _31Dcoz pZkvcx']\")\n",
    "        Discount.append(discount_tag.text)\n",
    "    except NoSuchElementException:\n",
    "        Discount.append('-')\n",
    "print(len(Brand))        \n",
    "print(len(Product_description))\n",
    "print(len(Price))\n",
    "print(len(Discount))"
   ]
  },
  {
   "cell_type": "code",
   "execution_count": 34,
   "metadata": {},
   "outputs": [
    {
     "data": {
      "text/html": [
       "<div>\n",
       "<style scoped>\n",
       "    .dataframe tbody tr th:only-of-type {\n",
       "        vertical-align: middle;\n",
       "    }\n",
       "\n",
       "    .dataframe tbody tr th {\n",
       "        vertical-align: top;\n",
       "    }\n",
       "\n",
       "    .dataframe thead th {\n",
       "        text-align: right;\n",
       "    }\n",
       "</style>\n",
       "<table border=\"1\" class=\"dataframe\">\n",
       "  <thead>\n",
       "    <tr style=\"text-align: right;\">\n",
       "      <th></th>\n",
       "      <th>Brand_Name</th>\n",
       "      <th>Description</th>\n",
       "      <th>Price</th>\n",
       "      <th>Discount</th>\n",
       "    </tr>\n",
       "  </thead>\n",
       "  <tbody>\n",
       "    <tr>\n",
       "      <th>0</th>\n",
       "      <td>Birde</td>\n",
       "      <td>Casual Shoes Sneakers For Men  (Multicolor)</td>\n",
       "      <td>₹293</td>\n",
       "      <td>70% off</td>\n",
       "    </tr>\n",
       "    <tr>\n",
       "      <th>1</th>\n",
       "      <td>Chevit</td>\n",
       "      <td>Combo Pack of 4 Casual Sneakers With Sneakers For Men  (Multicolor)</td>\n",
       "      <td>₹499</td>\n",
       "      <td>75% off</td>\n",
       "    </tr>\n",
       "    <tr>\n",
       "      <th>2</th>\n",
       "      <td>India hub</td>\n",
       "      <td>Fashionable casual sneakers shoes Sneakers For Men  (Black)</td>\n",
       "      <td>₹389</td>\n",
       "      <td>87% off</td>\n",
       "    </tr>\n",
       "    <tr>\n",
       "      <th>3</th>\n",
       "      <td>PEHANOSA</td>\n",
       "      <td>Sneakers For Men  (Multicolor)</td>\n",
       "      <td>₹499</td>\n",
       "      <td>50% off</td>\n",
       "    </tr>\n",
       "    <tr>\n",
       "      <th>4</th>\n",
       "      <td>CALCADOS</td>\n",
       "      <td>Modern Trendy Shoes Combo pack of 4 Sneakers For Men  (Multicolor)</td>\n",
       "      <td>₹748</td>\n",
       "      <td>62% off</td>\n",
       "    </tr>\n",
       "    <tr>\n",
       "      <th>...</th>\n",
       "      <td>...</td>\n",
       "      <td>...</td>\n",
       "      <td>...</td>\n",
       "      <td>...</td>\n",
       "    </tr>\n",
       "    <tr>\n",
       "      <th>95</th>\n",
       "      <td>AMICO</td>\n",
       "      <td>Designer Printed Casual Sneakers Shoes Sneakers For Men  (Black)</td>\n",
       "      <td>₹474</td>\n",
       "      <td>52% off</td>\n",
       "    </tr>\n",
       "    <tr>\n",
       "      <th>96</th>\n",
       "      <td>Numenzo</td>\n",
       "      <td>Sneakers For Men  (White)</td>\n",
       "      <td>₹398</td>\n",
       "      <td>60% off</td>\n",
       "    </tr>\n",
       "    <tr>\n",
       "      <th>97</th>\n",
       "      <td>PUMA</td>\n",
       "      <td>Corode IDP Sneakers For Men  (Green)</td>\n",
       "      <td>₹1,316</td>\n",
       "      <td>67% off</td>\n",
       "    </tr>\n",
       "    <tr>\n",
       "      <th>98</th>\n",
       "      <td>KULP</td>\n",
       "      <td>heart beat Sneakers For Men  (White)</td>\n",
       "      <td>₹399</td>\n",
       "      <td>60% off</td>\n",
       "    </tr>\n",
       "    <tr>\n",
       "      <th>99</th>\n",
       "      <td>Echor</td>\n",
       "      <td>shoes for boys Sneakers For Men  (Multicolor)</td>\n",
       "      <td>₹599</td>\n",
       "      <td>40% off</td>\n",
       "    </tr>\n",
       "  </tbody>\n",
       "</table>\n",
       "<p>100 rows × 4 columns</p>\n",
       "</div>"
      ],
      "text/plain": [
       "    Brand_Name  \\\n",
       "0       Birde    \n",
       "1      Chevit    \n",
       "2   India hub    \n",
       "3    PEHANOSA    \n",
       "4    CALCADOS    \n",
       "..         ...   \n",
       "95      AMICO    \n",
       "96    Numenzo    \n",
       "97       PUMA    \n",
       "98       KULP    \n",
       "99      Echor    \n",
       "\n",
       "                                                            Description  \\\n",
       "0                           Casual Shoes Sneakers For Men  (Multicolor)   \n",
       "1   Combo Pack of 4 Casual Sneakers With Sneakers For Men  (Multicolor)   \n",
       "2           Fashionable casual sneakers shoes Sneakers For Men  (Black)   \n",
       "3                                        Sneakers For Men  (Multicolor)   \n",
       "4    Modern Trendy Shoes Combo pack of 4 Sneakers For Men  (Multicolor)   \n",
       "..                                                                  ...   \n",
       "95     Designer Printed Casual Sneakers Shoes Sneakers For Men  (Black)   \n",
       "96                                            Sneakers For Men  (White)   \n",
       "97                                 Corode IDP Sneakers For Men  (Green)   \n",
       "98                                 heart beat Sneakers For Men  (White)   \n",
       "99                        shoes for boys Sneakers For Men  (Multicolor)   \n",
       "\n",
       "     Price Discount  \n",
       "0     ₹293  70% off  \n",
       "1     ₹499  75% off  \n",
       "2     ₹389  87% off  \n",
       "3     ₹499  50% off  \n",
       "4     ₹748  62% off  \n",
       "..     ...      ...  \n",
       "95    ₹474  52% off  \n",
       "96    ₹398  60% off  \n",
       "97  ₹1,316  67% off  \n",
       "98    ₹399  60% off  \n",
       "99    ₹599  40% off  \n",
       "\n",
       "[100 rows x 4 columns]"
      ]
     },
     "execution_count": 34,
     "metadata": {},
     "output_type": "execute_result"
    }
   ],
   "source": [
    "BRAND_NAME = pd.DataFrame(Brand,columns=['Brand_Name'])\n",
    "BRAND_NAME\n",
    "DESCRIPTION = pd.DataFrame(Product_description,columns=['Description'])\n",
    "DESCRIPTION\n",
    "PRICE_RS = pd.DataFrame(Price,columns=['Price'])\n",
    "PRICE_RS\n",
    "DISCOUNT_PERCENTAGE = pd.DataFrame(Discount,columns=['Discount'])\n",
    "DISCOUNT_PERCENTAGE\n",
    "\n",
    "\n",
    "pd.set_option('display.max_colwidth', None)\n",
    "FLIPKART_Sneakers = pd.concat([BRAND_NAME,DESCRIPTION,PRICE_RS,DISCOUNT_PERCENTAGE],axis=1)\n",
    "FLIPKART_Sneakers"
   ]
  },
  {
   "cell_type": "markdown",
   "metadata": {},
   "source": [
    "9. : Go to the link - https://www.myntra.com/shoes.\n",
    "Set Price filter to “Rs. 6649 to Rs. 13099” , Color filter to “Black”, as shown in \n",
    "the below image. And then scrape First 100 shoes data you get. The data should include “Brand” of \n",
    "the shoes , Short Shoe description, price of the shoe as shown in the below image"
   ]
  },
  {
   "cell_type": "code",
   "execution_count": 4,
   "metadata": {},
   "outputs": [],
   "source": [
    "url='https://www.myntra.com/shoes'\n",
    "driver.get(url)"
   ]
  },
  {
   "cell_type": "code",
   "execution_count": 8,
   "metadata": {},
   "outputs": [
    {
     "data": {
      "text/plain": [
       "['https://www.myntra.com/shoes?f=Color%3ABlack_36454f&plaEnabled=false&rf=Price%3A6649.0_13099.0_6649.0%20TO%2013099.01',\n",
       " 'https://www.myntra.com/shoes?f=Color%3ABlack_36454f&plaEnabled=false&rf=Price%3A6649.0_13099.0_6649.0%20TO%2013099.02']"
      ]
     },
     "execution_count": 8,
     "metadata": {},
     "output_type": "execute_result"
    }
   ],
   "source": [
    "flip_pages=[]\n",
    "for page in range(1,3,1):\n",
    "    page_url=\"https://www.myntra.com/shoes?f=Color%3ABlack_36454f&plaEnabled=false&rf=Price%3A6649.0_13099.0_6649.0%20TO%2013099.0\" +str(page)\n",
    "    driver.get(page_url)\n",
    "    flip_pages.append(page_url)\n",
    "flip_pages    "
   ]
  },
  {
   "cell_type": "code",
   "execution_count": 17,
   "metadata": {},
   "outputs": [
    {
     "data": {
      "text/plain": [
       "[<selenium.webdriver.remote.webelement.WebElement (session=\"a8cf482319191570cc943600eef07ced\", element=\"c12616f4-3fb1-4dfd-a18f-d120f096d182\")>,\n",
       " <selenium.webdriver.remote.webelement.WebElement (session=\"a8cf482319191570cc943600eef07ced\", element=\"b5292ffd-5c01-4388-8689-805fb85490f7\")>,\n",
       " <selenium.webdriver.remote.webelement.WebElement (session=\"a8cf482319191570cc943600eef07ced\", element=\"df39df8e-a777-4b31-9aa3-be68084716a1\")>,\n",
       " <selenium.webdriver.remote.webelement.WebElement (session=\"a8cf482319191570cc943600eef07ced\", element=\"e30ef0c4-35ba-4164-818f-40793cba40b8\")>,\n",
       " <selenium.webdriver.remote.webelement.WebElement (session=\"a8cf482319191570cc943600eef07ced\", element=\"d83b14c1-b834-41dd-a25a-a243201b8796\")>,\n",
       " <selenium.webdriver.remote.webelement.WebElement (session=\"a8cf482319191570cc943600eef07ced\", element=\"04ea6dbd-c75b-4548-9cda-42b108d3501d\")>,\n",
       " <selenium.webdriver.remote.webelement.WebElement (session=\"a8cf482319191570cc943600eef07ced\", element=\"fad468ba-205a-4bcc-944e-88f9650257f0\")>,\n",
       " <selenium.webdriver.remote.webelement.WebElement (session=\"a8cf482319191570cc943600eef07ced\", element=\"3858b4ce-d24c-466e-8334-81cd57e1a609\")>,\n",
       " <selenium.webdriver.remote.webelement.WebElement (session=\"a8cf482319191570cc943600eef07ced\", element=\"702b27b3-c148-4807-a405-6c1c2d576ce4\")>]"
      ]
     },
     "execution_count": 17,
     "metadata": {},
     "output_type": "execute_result"
    }
   ],
   "source": [
    "page_urls=[]\n",
    "nxt_page = driver.find_elements_by_xpath(\"//li[@class='pagination-number']/a\")\n",
    "\n",
    "for i in nxt_page:\n",
    "\n",
    "    page_urls.append(i.get_attribute('href'))\n",
    "nxt_page    "
   ]
  },
  {
   "cell_type": "code",
   "execution_count": 18,
   "metadata": {},
   "outputs": [],
   "source": [
    "shoe_names=[]\n",
    "for url in page_urls[:3]:\n",
    "\n",
    "    driver.get(url)\n",
    "\n",
    "    Names=driver.find_elements_by_xpath(\"//div[@class='product-productMetaInfo']/h3\")  #for scrapping shoe brand names\n",
    "\n",
    "    for i in Names:\n",
    "\n",
    "        shoe_names.append(i.text)"
   ]
  },
  {
   "cell_type": "code",
   "execution_count": 19,
   "metadata": {},
   "outputs": [],
   "source": [
    "Price=[]\n",
    "for url in page_urls[:10]:\n",
    "    driver.get(url)\n",
    "    price=driver.find_elements_by_xpath(\"//span[@class='product-discountedPrice']\") \n",
    "    for i in price:\n",
    "        Price.append(i.text)"
   ]
  },
  {
   "cell_type": "code",
   "execution_count": 22,
   "metadata": {},
   "outputs": [
    {
     "data": {
      "text/plain": [
       "100"
      ]
     },
     "execution_count": 22,
     "metadata": {},
     "output_type": "execute_result"
    }
   ],
   "source": [
    "Desc=[]\n",
    "for url in page_urls[:2]:\n",
    "    driver.get(url)\n",
    "    Description=driver.find_elements_by_xpath(\"//h4[@class='product-product']\")\n",
    "    for i in Description:\n",
    "         Desc.append(i.text)\n",
    "len(Desc)        "
   ]
  },
  {
   "cell_type": "markdown",
   "metadata": {},
   "source": [
    "I was not able to fetch description even after trying every possibility."
   ]
  },
  {
   "cell_type": "code",
   "execution_count": 23,
   "metadata": {},
   "outputs": [
    {
     "data": {
      "text/html": [
       "<div>\n",
       "<style scoped>\n",
       "    .dataframe tbody tr th:only-of-type {\n",
       "        vertical-align: middle;\n",
       "    }\n",
       "\n",
       "    .dataframe tbody tr th {\n",
       "        vertical-align: top;\n",
       "    }\n",
       "\n",
       "    .dataframe thead th {\n",
       "        text-align: right;\n",
       "    }\n",
       "</style>\n",
       "<table border=\"1\" class=\"dataframe\">\n",
       "  <thead>\n",
       "    <tr style=\"text-align: right;\">\n",
       "      <th></th>\n",
       "      <th>Names</th>\n",
       "      <th>price</th>\n",
       "      <th>Description</th>\n",
       "    </tr>\n",
       "  </thead>\n",
       "  <tbody>\n",
       "    <tr>\n",
       "      <th>0</th>\n",
       "      <td>FILA</td>\n",
       "      <td>Rs. 7649</td>\n",
       "      <td>Men Running Shoes</td>\n",
       "    </tr>\n",
       "    <tr>\n",
       "      <th>1</th>\n",
       "      <td>KIPRUN By Decathlon</td>\n",
       "      <td>Rs. 7006</td>\n",
       "      <td>Women Running Shoes</td>\n",
       "    </tr>\n",
       "    <tr>\n",
       "      <th>2</th>\n",
       "      <td>J.FONTINI</td>\n",
       "      <td>Rs. 7799</td>\n",
       "      <td>Men Leather Formal Derbys</td>\n",
       "    </tr>\n",
       "    <tr>\n",
       "      <th>3</th>\n",
       "      <td>Quechua By Decathlon</td>\n",
       "      <td>Rs. 7039</td>\n",
       "      <td>Men Trekking Shoes</td>\n",
       "    </tr>\n",
       "    <tr>\n",
       "      <th>4</th>\n",
       "      <td>ADIDAS</td>\n",
       "      <td>Rs. 7465</td>\n",
       "      <td>Women Edge Lux 4 Running</td>\n",
       "    </tr>\n",
       "    <tr>\n",
       "      <th>...</th>\n",
       "      <td>...</td>\n",
       "      <td>...</td>\n",
       "      <td>...</td>\n",
       "    </tr>\n",
       "    <tr>\n",
       "      <th>95</th>\n",
       "      <td>Heel &amp; Buckle London</td>\n",
       "      <td>Rs. 9303</td>\n",
       "      <td>Men Penny Leather Loafers</td>\n",
       "    </tr>\n",
       "    <tr>\n",
       "      <th>96</th>\n",
       "      <td>ALDO</td>\n",
       "      <td>Rs. 7192</td>\n",
       "      <td>Men Solid Leather Formal Oxfords</td>\n",
       "    </tr>\n",
       "    <tr>\n",
       "      <th>97</th>\n",
       "      <td>Birkenstock</td>\n",
       "      <td>Rs. 7343</td>\n",
       "      <td>Madrid Oiled Open Toe Flats</td>\n",
       "    </tr>\n",
       "    <tr>\n",
       "      <th>98</th>\n",
       "      <td>Hush Puppies</td>\n",
       "      <td>Rs. 7413</td>\n",
       "      <td>Men Leather Derbys</td>\n",
       "    </tr>\n",
       "    <tr>\n",
       "      <th>99</th>\n",
       "      <td>Bugatti</td>\n",
       "      <td>Rs. 10121</td>\n",
       "      <td>Men Solid Leather Formal Derbys</td>\n",
       "    </tr>\n",
       "  </tbody>\n",
       "</table>\n",
       "<p>100 rows × 3 columns</p>\n",
       "</div>"
      ],
      "text/plain": [
       "                   Names      price                       Description\n",
       "0                   FILA   Rs. 7649                 Men Running Shoes\n",
       "1    KIPRUN By Decathlon   Rs. 7006               Women Running Shoes\n",
       "2              J.FONTINI   Rs. 7799         Men Leather Formal Derbys\n",
       "3   Quechua By Decathlon   Rs. 7039                Men Trekking Shoes\n",
       "4                 ADIDAS   Rs. 7465          Women Edge Lux 4 Running\n",
       "..                   ...        ...                               ...\n",
       "95  Heel & Buckle London   Rs. 9303         Men Penny Leather Loafers\n",
       "96                  ALDO   Rs. 7192  Men Solid Leather Formal Oxfords\n",
       "97           Birkenstock   Rs. 7343       Madrid Oiled Open Toe Flats\n",
       "98          Hush Puppies   Rs. 7413                Men Leather Derbys\n",
       "99               Bugatti  Rs. 10121   Men Solid Leather Formal Derbys\n",
       "\n",
       "[100 rows x 3 columns]"
      ]
     },
     "execution_count": 23,
     "metadata": {},
     "output_type": "execute_result"
    }
   ],
   "source": [
    "Myntra=pd.DataFrame()\n",
    "Myntra['Names']=shoe_names[0:100]\n",
    "Myntra['price']=Price[0:100]\n",
    "Myntra['Description']=Desc[0:100]\n",
    "Myntra"
   ]
  },
  {
   "cell_type": "markdown",
   "metadata": {},
   "source": [
    "10. Enter “Laptop” in the search field and then click the search icon.\n",
    " Then set CPU Type filter to “Intel Core i7” and “Intel Core i9” as shown in the \n",
    "below image:\n",
    "    After setting the filters scrape first 10 laptops data. You have to scrape 3 attributes \n",
    "for each laptop:\n",
    "1. title\n",
    "2. Ratings\n",
    "3. Price"
   ]
  },
  {
   "cell_type": "code",
   "execution_count": 3,
   "metadata": {},
   "outputs": [],
   "source": [
    "url='https://www.amazon.in/'\n",
    "driver.get(url)"
   ]
  },
  {
   "cell_type": "code",
   "execution_count": 4,
   "metadata": {},
   "outputs": [
    {
     "data": {
      "text/plain": [
       "['Lenovo Yoga Slim 7 10th Gen Intel Core i7 14 inch Full HD IPS Thin and Light Laptop (8GB/512GB SSD/Windows 10/MS Office 2019/NVIDIA MX350 2GB GDDR5 Graphics/Slate Grey/1.55Kg), 82A1009KIN',\n",
       " 'Lenovo Yoga 7 11th Gen Intel Core i7 14\" (35.56cms) Full HD IPS 2-in-1 Touchscreen Laptop (16GB/512GB SSD/Windows 10/MS Office 2019/Fingerprint Reader/Slate Grey/Aluminium Surface/1.43Kg), 82BH004HIN',\n",
       " 'Mi Notebook Horizon Edition 14 Intel Core i5-10210U 10th Gen 14-inch (35.56 cms) Thin and Light Laptop(8GB/512GB SSD/Windows 10/Nvidia MX350 2GB Graphics/Grey/1.35Kg), XMA1904-AR+Webcam',\n",
       " 'HP Pavilion (2021) Thin & Light 11th Gen Core i7 Laptop, 16 GB RAM, 1TB SSD, Iris Xe Graphics, 14\" (35.56cms) FHD Screen, Windows 10, MS Office, Backlit Keyboard (14-dv0058TU)',\n",
       " 'HP Pavilion x360 (2021) 14\" (35.56cms) FHD Touchscreen Laptop, 11th Gen Core i7, 8 GB RAM, 512GB SSD, 2-in-1 Convertible, Windows 10, MS Office, Finger Print Reader (14-dw1040TU)',\n",
       " 'HP Pavilion Gaming 10th Gen Intel Core i7 Processor 15.6-inch FHD Gaming Laptop (16GB/512GB SSD + 32GB Intel Optane/Windows 10/NVIDIA 1650Ti 4GB/Shadow Black), 15-dk1509TX',\n",
       " 'HP Omen 10th Gen Intel Core i7 Processor 15.6-inch FHD Gaming Laptop (i7-10750H/16GB/1TB SSD/Windows 10/300 Nits/300 Hz/NVIDIA RTX 2060 6GB/Shadow Black/2.36 kg), 15-ek0021TX',\n",
       " 'Lenovo IdeaPad Gaming 3 10th Gen Intel Core i7 15.6-inch FHD IPS Gaming Laptop (8GB/1TB HDD + 256 GB SSD/Windows 10/NVIDIA GTX 1650 4GB GDDR6/with M100 RGB Gaming Mouse/Onyx Black/2.2Kg), 81Y400VAIN',\n",
       " 'MSI GF65 Thin, Intel i7-10750H, 15.6\" FHD (39.6 cm) IPS-Level 144Hz Panel Laptop (16GB/512GB NVMe SSD/Windows 10 Home/Nvidia GTX1660 Ti 6GB GDDR6/Black/1.86Kg), 10SDR-1280IN',\n",
       " 'Lenovo IdeaPad Flex 5 11th Gen Intel Core i7 14-inch FHD IPS 2-in-1 Touchscreen Laptop (16GB/512GB SSD/Win 10/Office 2019/Lenovo Digital Pen Stylus/Fingerprint Reader/Graphite Grey/1.5Kg), 82HS0092IN']"
      ]
     },
     "execution_count": 4,
     "metadata": {},
     "output_type": "execute_result"
    }
   ],
   "source": [
    "Title=driver.find_elements_by_xpath('//span[@class=\"a-size-medium a-color-base a-text-normal\"]')\n",
    "title=[]\n",
    "for i in Title:\n",
    "    title.append(i.text)\n",
    "title[0:10]    "
   ]
  },
  {
   "cell_type": "code",
   "execution_count": 42,
   "metadata": {},
   "outputs": [
    {
     "data": {
      "text/plain": [
       "['3.2 out of 5 stars',\n",
       " '4.6 out of 5 stars',\n",
       " '4.4 out of 5 stars',\n",
       " '4.5 out of 5 stars',\n",
       " '3.8 out of 5 stars',\n",
       " '4.0 out of 5 stars',\n",
       " '3.4 out of 5 stars',\n",
       " '4.3 out of 5 stars',\n",
       " '4.2 out of 5 stars',\n",
       " '3.0 out of 5 stars']"
      ]
     },
     "execution_count": 42,
     "metadata": {},
     "output_type": "execute_result"
    }
   ],
   "source": [
    "Ratings=driver.find_elements_by_xpath('//div[@class=\"a-row a-size-small\"]/span')\n",
    "ratings=[]\n",
    "for i in Ratings:\n",
    "    ratings.append(i.get_attribute('aria-label'))\n",
    "ratings[0::2][0:10]"
   ]
  },
  {
   "cell_type": "code",
   "execution_count": 9,
   "metadata": {},
   "outputs": [
    {
     "data": {
      "text/plain": [
       "['83,000',\n",
       " '97,990',\n",
       " '54,999',\n",
       " '84,990',\n",
       " '78,990',\n",
       " '86,990',\n",
       " '1,31,990',\n",
       " '77,990',\n",
       " '90,733',\n",
       " '90,240']"
      ]
     },
     "execution_count": 9,
     "metadata": {},
     "output_type": "execute_result"
    }
   ],
   "source": [
    "Price=driver.find_elements_by_xpath('//span[@class=\"a-price-whole\"]')\n",
    "price=[]\n",
    "for i in Price:\n",
    "    price.append(i.text)\n",
    "price[0:10]    "
   ]
  },
  {
   "cell_type": "code",
   "execution_count": 44,
   "metadata": {},
   "outputs": [
    {
     "data": {
      "text/html": [
       "<div>\n",
       "<style scoped>\n",
       "    .dataframe tbody tr th:only-of-type {\n",
       "        vertical-align: middle;\n",
       "    }\n",
       "\n",
       "    .dataframe tbody tr th {\n",
       "        vertical-align: top;\n",
       "    }\n",
       "\n",
       "    .dataframe thead th {\n",
       "        text-align: right;\n",
       "    }\n",
       "</style>\n",
       "<table border=\"1\" class=\"dataframe\">\n",
       "  <thead>\n",
       "    <tr style=\"text-align: right;\">\n",
       "      <th></th>\n",
       "      <th>Title</th>\n",
       "      <th>Ratings</th>\n",
       "      <th>Price</th>\n",
       "    </tr>\n",
       "  </thead>\n",
       "  <tbody>\n",
       "    <tr>\n",
       "      <th>0</th>\n",
       "      <td>Lenovo Yoga Slim 7 10th Gen Intel Core i7 14 i...</td>\n",
       "      <td>3.2 out of 5 stars</td>\n",
       "      <td>83,000</td>\n",
       "    </tr>\n",
       "    <tr>\n",
       "      <th>1</th>\n",
       "      <td>Lenovo Yoga 7 11th Gen Intel Core i7 14\" (35.5...</td>\n",
       "      <td>4.6 out of 5 stars</td>\n",
       "      <td>97,990</td>\n",
       "    </tr>\n",
       "    <tr>\n",
       "      <th>2</th>\n",
       "      <td>Mi Notebook Horizon Edition 14 Intel Core i5-1...</td>\n",
       "      <td>4.4 out of 5 stars</td>\n",
       "      <td>54,999</td>\n",
       "    </tr>\n",
       "    <tr>\n",
       "      <th>3</th>\n",
       "      <td>HP Pavilion (2021) Thin &amp; Light 11th Gen Core ...</td>\n",
       "      <td>4.5 out of 5 stars</td>\n",
       "      <td>84,990</td>\n",
       "    </tr>\n",
       "    <tr>\n",
       "      <th>4</th>\n",
       "      <td>HP Pavilion x360 (2021) 14\" (35.56cms) FHD Tou...</td>\n",
       "      <td>3.8 out of 5 stars</td>\n",
       "      <td>78,990</td>\n",
       "    </tr>\n",
       "    <tr>\n",
       "      <th>5</th>\n",
       "      <td>HP Pavilion Gaming 10th Gen Intel Core i7 Proc...</td>\n",
       "      <td>4.0 out of 5 stars</td>\n",
       "      <td>86,990</td>\n",
       "    </tr>\n",
       "    <tr>\n",
       "      <th>6</th>\n",
       "      <td>HP Omen 10th Gen Intel Core i7 Processor 15.6-...</td>\n",
       "      <td>3.4 out of 5 stars</td>\n",
       "      <td>1,31,990</td>\n",
       "    </tr>\n",
       "    <tr>\n",
       "      <th>7</th>\n",
       "      <td>Lenovo IdeaPad Gaming 3 10th Gen Intel Core i7...</td>\n",
       "      <td>4.3 out of 5 stars</td>\n",
       "      <td>77,990</td>\n",
       "    </tr>\n",
       "    <tr>\n",
       "      <th>8</th>\n",
       "      <td>MSI GF65 Thin, Intel i7-10750H, 15.6\" FHD (39....</td>\n",
       "      <td>4.2 out of 5 stars</td>\n",
       "      <td>90,733</td>\n",
       "    </tr>\n",
       "    <tr>\n",
       "      <th>9</th>\n",
       "      <td>Lenovo IdeaPad Flex 5 11th Gen Intel Core i7 1...</td>\n",
       "      <td>3.0 out of 5 stars</td>\n",
       "      <td>90,240</td>\n",
       "    </tr>\n",
       "  </tbody>\n",
       "</table>\n",
       "</div>"
      ],
      "text/plain": [
       "                                               Title             Ratings  \\\n",
       "0  Lenovo Yoga Slim 7 10th Gen Intel Core i7 14 i...  3.2 out of 5 stars   \n",
       "1  Lenovo Yoga 7 11th Gen Intel Core i7 14\" (35.5...  4.6 out of 5 stars   \n",
       "2  Mi Notebook Horizon Edition 14 Intel Core i5-1...  4.4 out of 5 stars   \n",
       "3  HP Pavilion (2021) Thin & Light 11th Gen Core ...  4.5 out of 5 stars   \n",
       "4  HP Pavilion x360 (2021) 14\" (35.56cms) FHD Tou...  3.8 out of 5 stars   \n",
       "5  HP Pavilion Gaming 10th Gen Intel Core i7 Proc...  4.0 out of 5 stars   \n",
       "6  HP Omen 10th Gen Intel Core i7 Processor 15.6-...  3.4 out of 5 stars   \n",
       "7  Lenovo IdeaPad Gaming 3 10th Gen Intel Core i7...  4.3 out of 5 stars   \n",
       "8  MSI GF65 Thin, Intel i7-10750H, 15.6\" FHD (39....  4.2 out of 5 stars   \n",
       "9  Lenovo IdeaPad Flex 5 11th Gen Intel Core i7 1...  3.0 out of 5 stars   \n",
       "\n",
       "      Price  \n",
       "0    83,000  \n",
       "1    97,990  \n",
       "2    54,999  \n",
       "3    84,990  \n",
       "4    78,990  \n",
       "5    86,990  \n",
       "6  1,31,990  \n",
       "7    77,990  \n",
       "8    90,733  \n",
       "9    90,240  "
      ]
     },
     "execution_count": 44,
     "metadata": {},
     "output_type": "execute_result"
    }
   ],
   "source": [
    "Laptop=pd.DataFrame()\n",
    "Laptop['Title']=title[0:10]\n",
    "Laptop['Ratings']=ratings[0::2][0:10]\n",
    "Laptop['Price']=price[0:10]\n",
    "Laptop"
   ]
  },
  {
   "cell_type": "code",
   "execution_count": null,
   "metadata": {},
   "outputs": [],
   "source": []
  }
 ],
 "metadata": {
  "kernelspec": {
   "display_name": "Python 3",
   "language": "python",
   "name": "python3"
  },
  "language_info": {
   "codemirror_mode": {
    "name": "ipython",
    "version": 3
   },
   "file_extension": ".py",
   "mimetype": "text/x-python",
   "name": "python",
   "nbconvert_exporter": "python",
   "pygments_lexer": "ipython3",
   "version": "3.8.5"
  }
 },
 "nbformat": 4,
 "nbformat_minor": 4
}
